{
  "cells": [
    {
      "cell_type": "markdown",
      "metadata": {
        "id": "fa9a612a-5eb1-4783-aba5-a8754f6594d8"
      },
      "source": [
        "# FEATURE DESCRIPTON\n",
        "Relevant Information:\n",
        "\n",
        "   The data is related with direct marketing campaigns of a Portuguese banking institution. \n",
        "   The marketing campaigns were based on phone calls. Often, more than one contact to the same client was required, \n",
        "   in order to access if the product (bank term deposit) would be (or not) subscribed. \n",
        "\n",
        "Number of Instances: 45211 for bank-full.csv\n",
        "\n",
        "Number of Attributes: 16 + output attribute.\n",
        "\n",
        "Attribute information:\n",
        "\n",
        "   Input variables:\n",
        "   ##### bank client data:\n",
        "   1. - age (numeric)\n",
        "   2. - job : type of job (categorical: \"admin.\",\"unknown\",\"unemployed\",\"management\",\"housemaid\",\"entrepreneur\",\"student\", \"blue-collar\",\"self-employed\",\"retired\",\"technician\",\"services\") \n",
        "   3. - marital : marital status (categorical: \"married\",\"divorced\",\"single\"; note: \"divorced\" means divorced or widowed)\n",
        "   4. - education (categorical: \"unknown\",\"secondary\",\"primary\",\"tertiary\")\n",
        "   5. - default: has credit in default? (binary: \"yes\",\"no\")\n",
        "   6. - balance: average yearly balance, in euros (numeric) \n",
        "   7. - housing: has housing loan? (binary: \"yes\",\"no\")\n",
        "   8. - loan: has personal loan? (binary: \"yes\",\"no\")\n",
        "   ##### related with the last contact of the current campaign:\n",
        "   9. - contact: contact communication type (categorical: \"unknown\",\"telephone\",\"cellular\")\n",
        "   10. - day: last contact day of the month (numeric)\n",
        "   11. - month: last contact month of year (categorical: \"jan\", \"feb\", \"mar\", ..., \"nov\", \"dec\")\n",
        "   12. - duration: last contact duration, in seconds (numeric)\n",
        "   ##### other attributes:\n",
        "   13. - campaign: number of contacts performed during this campaign and for this client (numeric, includes last contact)\n",
        "   14. - pdays: number of days that passed by after the client was last contacted from a previous campaign (numeric, -1 means client was not previously contacted)\n",
        "   15. - previous: number of contacts performed before this campaign and for this client (numeric)\n",
        "   16. - poutcome: outcome of the previous marketing campaign (categorical: \"unknown\",\"other\",\"failure\",\"success\")\n",
        "\n",
        "  Output variable (desired target):\n",
        "   17. - y - has the client subscribed a term deposit? (binary: \"yes\",\"no\")"
      ],
      "id": "fa9a612a-5eb1-4783-aba5-a8754f6594d8"
    },
    {
      "cell_type": "markdown",
      "metadata": {
        "id": "i0vqR2-cckTn"
      },
      "source": [
        "# OVERVIEW"
      ],
      "id": "i0vqR2-cckTn"
    },
    {
      "cell_type": "code",
      "execution_count": 1,
      "metadata": {
        "id": "12b2b810-07e0-4906-9933-dcf6e0076c19"
      },
      "outputs": [],
      "source": [
        "# import library\n",
        "import pandas as pd\n",
        "import numpy as np\n",
        "import seaborn as sns\n",
        "import matplotlib.pyplot as plt\n",
        "\n",
        "from scipy import stats\n",
        "from sklearn.preprocessing import LabelEncoder, OrdinalEncoder, MinMaxScaler\n",
        "from sklearn.model_selection import KFold, StratifiedKFold, train_test_split, cross_validate, cross_val_score\n",
        "from sklearn.linear_model import LogisticRegression\n",
        "from sklearn.tree import DecisionTreeClassifier\n",
        "from sklearn.ensemble import ExtraTreesClassifier, ExtraTreesRegressor\n",
        "from sklearn.metrics import confusion_matrix, classification_report\n",
        "from imblearn.over_sampling import SMOTE\n",
        "\n",
        "from sklearn.model_selection import RandomizedSearchCV, GridSearchCV\n",
        "from sklearn.ensemble import RandomForestClassifier, AdaBoostClassifier, ExtraTreesClassifier, StackingClassifier, GradientBoostingClassifier\n",
        "\n",
        "import warnings\n",
        "warnings.filterwarnings('ignore')\n"
      ],
      "id": "12b2b810-07e0-4906-9933-dcf6e0076c19"
    },
    {
      "cell_type": "markdown",
      "metadata": {
        "id": "Jfe-PjL__iaY"
      },
      "source": [
        "## LOAD DATA"
      ],
      "id": "Jfe-PjL__iaY"
    },
    {
      "cell_type": "code",
      "execution_count": 2,
      "metadata": {
        "colab": {
          "base_uri": "https://localhost:8080/"
        },
        "id": "owqkCuSrFdwt",
        "outputId": "4aff4610-b0c6-43f4-8825-d0b66b9009f7"
      },
      "outputs": [
        {
          "output_type": "stream",
          "name": "stdout",
          "text": [
            "Mounted at /content/drive\n"
          ]
        }
      ],
      "source": [
        "from google.colab import drive\n",
        "drive.mount('/content/drive')"
      ],
      "id": "owqkCuSrFdwt"
    },
    {
      "cell_type": "code",
      "execution_count": 3,
      "metadata": {
        "id": "81cc946a-24ad-4900-bbad-dc8b4714dca4"
      },
      "outputs": [],
      "source": [
        "df = pd.read_csv('drive/MyDrive/data/bank-full.csv', delimiter=';')"
      ],
      "id": "81cc946a-24ad-4900-bbad-dc8b4714dca4"
    },
    {
      "cell_type": "code",
      "execution_count": 4,
      "metadata": {
        "colab": {
          "base_uri": "https://localhost:8080/",
          "height": 206
        },
        "id": "99165980-9125-4a58-9f62-7962d40b36ba",
        "outputId": "1fcb4bd5-89eb-48fe-f38d-bd3f856fdd28"
      },
      "outputs": [
        {
          "output_type": "execute_result",
          "data": {
            "text/plain": [
              "   age           job  marital  education default  balance housing loan  \\\n",
              "0   58    management  married   tertiary      no     2143     yes   no   \n",
              "1   44    technician   single  secondary      no       29     yes   no   \n",
              "2   33  entrepreneur  married  secondary      no        2     yes  yes   \n",
              "3   47   blue-collar  married    unknown      no     1506     yes   no   \n",
              "4   33       unknown   single    unknown      no        1      no   no   \n",
              "\n",
              "   contact  day month  duration  campaign  pdays  previous poutcome   y  \n",
              "0  unknown    5   may       261         1     -1         0  unknown  no  \n",
              "1  unknown    5   may       151         1     -1         0  unknown  no  \n",
              "2  unknown    5   may        76         1     -1         0  unknown  no  \n",
              "3  unknown    5   may        92         1     -1         0  unknown  no  \n",
              "4  unknown    5   may       198         1     -1         0  unknown  no  "
            ],
            "text/html": [
              "\n",
              "  <div id=\"df-29917efc-6bc8-4e03-8829-584693cab51d\">\n",
              "    <div class=\"colab-df-container\">\n",
              "      <div>\n",
              "<style scoped>\n",
              "    .dataframe tbody tr th:only-of-type {\n",
              "        vertical-align: middle;\n",
              "    }\n",
              "\n",
              "    .dataframe tbody tr th {\n",
              "        vertical-align: top;\n",
              "    }\n",
              "\n",
              "    .dataframe thead th {\n",
              "        text-align: right;\n",
              "    }\n",
              "</style>\n",
              "<table border=\"1\" class=\"dataframe\">\n",
              "  <thead>\n",
              "    <tr style=\"text-align: right;\">\n",
              "      <th></th>\n",
              "      <th>age</th>\n",
              "      <th>job</th>\n",
              "      <th>marital</th>\n",
              "      <th>education</th>\n",
              "      <th>default</th>\n",
              "      <th>balance</th>\n",
              "      <th>housing</th>\n",
              "      <th>loan</th>\n",
              "      <th>contact</th>\n",
              "      <th>day</th>\n",
              "      <th>month</th>\n",
              "      <th>duration</th>\n",
              "      <th>campaign</th>\n",
              "      <th>pdays</th>\n",
              "      <th>previous</th>\n",
              "      <th>poutcome</th>\n",
              "      <th>y</th>\n",
              "    </tr>\n",
              "  </thead>\n",
              "  <tbody>\n",
              "    <tr>\n",
              "      <th>0</th>\n",
              "      <td>58</td>\n",
              "      <td>management</td>\n",
              "      <td>married</td>\n",
              "      <td>tertiary</td>\n",
              "      <td>no</td>\n",
              "      <td>2143</td>\n",
              "      <td>yes</td>\n",
              "      <td>no</td>\n",
              "      <td>unknown</td>\n",
              "      <td>5</td>\n",
              "      <td>may</td>\n",
              "      <td>261</td>\n",
              "      <td>1</td>\n",
              "      <td>-1</td>\n",
              "      <td>0</td>\n",
              "      <td>unknown</td>\n",
              "      <td>no</td>\n",
              "    </tr>\n",
              "    <tr>\n",
              "      <th>1</th>\n",
              "      <td>44</td>\n",
              "      <td>technician</td>\n",
              "      <td>single</td>\n",
              "      <td>secondary</td>\n",
              "      <td>no</td>\n",
              "      <td>29</td>\n",
              "      <td>yes</td>\n",
              "      <td>no</td>\n",
              "      <td>unknown</td>\n",
              "      <td>5</td>\n",
              "      <td>may</td>\n",
              "      <td>151</td>\n",
              "      <td>1</td>\n",
              "      <td>-1</td>\n",
              "      <td>0</td>\n",
              "      <td>unknown</td>\n",
              "      <td>no</td>\n",
              "    </tr>\n",
              "    <tr>\n",
              "      <th>2</th>\n",
              "      <td>33</td>\n",
              "      <td>entrepreneur</td>\n",
              "      <td>married</td>\n",
              "      <td>secondary</td>\n",
              "      <td>no</td>\n",
              "      <td>2</td>\n",
              "      <td>yes</td>\n",
              "      <td>yes</td>\n",
              "      <td>unknown</td>\n",
              "      <td>5</td>\n",
              "      <td>may</td>\n",
              "      <td>76</td>\n",
              "      <td>1</td>\n",
              "      <td>-1</td>\n",
              "      <td>0</td>\n",
              "      <td>unknown</td>\n",
              "      <td>no</td>\n",
              "    </tr>\n",
              "    <tr>\n",
              "      <th>3</th>\n",
              "      <td>47</td>\n",
              "      <td>blue-collar</td>\n",
              "      <td>married</td>\n",
              "      <td>unknown</td>\n",
              "      <td>no</td>\n",
              "      <td>1506</td>\n",
              "      <td>yes</td>\n",
              "      <td>no</td>\n",
              "      <td>unknown</td>\n",
              "      <td>5</td>\n",
              "      <td>may</td>\n",
              "      <td>92</td>\n",
              "      <td>1</td>\n",
              "      <td>-1</td>\n",
              "      <td>0</td>\n",
              "      <td>unknown</td>\n",
              "      <td>no</td>\n",
              "    </tr>\n",
              "    <tr>\n",
              "      <th>4</th>\n",
              "      <td>33</td>\n",
              "      <td>unknown</td>\n",
              "      <td>single</td>\n",
              "      <td>unknown</td>\n",
              "      <td>no</td>\n",
              "      <td>1</td>\n",
              "      <td>no</td>\n",
              "      <td>no</td>\n",
              "      <td>unknown</td>\n",
              "      <td>5</td>\n",
              "      <td>may</td>\n",
              "      <td>198</td>\n",
              "      <td>1</td>\n",
              "      <td>-1</td>\n",
              "      <td>0</td>\n",
              "      <td>unknown</td>\n",
              "      <td>no</td>\n",
              "    </tr>\n",
              "  </tbody>\n",
              "</table>\n",
              "</div>\n",
              "      <button class=\"colab-df-convert\" onclick=\"convertToInteractive('df-29917efc-6bc8-4e03-8829-584693cab51d')\"\n",
              "              title=\"Convert this dataframe to an interactive table.\"\n",
              "              style=\"display:none;\">\n",
              "        \n",
              "  <svg xmlns=\"http://www.w3.org/2000/svg\" height=\"24px\"viewBox=\"0 0 24 24\"\n",
              "       width=\"24px\">\n",
              "    <path d=\"M0 0h24v24H0V0z\" fill=\"none\"/>\n",
              "    <path d=\"M18.56 5.44l.94 2.06.94-2.06 2.06-.94-2.06-.94-.94-2.06-.94 2.06-2.06.94zm-11 1L8.5 8.5l.94-2.06 2.06-.94-2.06-.94L8.5 2.5l-.94 2.06-2.06.94zm10 10l.94 2.06.94-2.06 2.06-.94-2.06-.94-.94-2.06-.94 2.06-2.06.94z\"/><path d=\"M17.41 7.96l-1.37-1.37c-.4-.4-.92-.59-1.43-.59-.52 0-1.04.2-1.43.59L10.3 9.45l-7.72 7.72c-.78.78-.78 2.05 0 2.83L4 21.41c.39.39.9.59 1.41.59.51 0 1.02-.2 1.41-.59l7.78-7.78 2.81-2.81c.8-.78.8-2.07 0-2.86zM5.41 20L4 18.59l7.72-7.72 1.47 1.35L5.41 20z\"/>\n",
              "  </svg>\n",
              "      </button>\n",
              "      \n",
              "  <style>\n",
              "    .colab-df-container {\n",
              "      display:flex;\n",
              "      flex-wrap:wrap;\n",
              "      gap: 12px;\n",
              "    }\n",
              "\n",
              "    .colab-df-convert {\n",
              "      background-color: #E8F0FE;\n",
              "      border: none;\n",
              "      border-radius: 50%;\n",
              "      cursor: pointer;\n",
              "      display: none;\n",
              "      fill: #1967D2;\n",
              "      height: 32px;\n",
              "      padding: 0 0 0 0;\n",
              "      width: 32px;\n",
              "    }\n",
              "\n",
              "    .colab-df-convert:hover {\n",
              "      background-color: #E2EBFA;\n",
              "      box-shadow: 0px 1px 2px rgba(60, 64, 67, 0.3), 0px 1px 3px 1px rgba(60, 64, 67, 0.15);\n",
              "      fill: #174EA6;\n",
              "    }\n",
              "\n",
              "    [theme=dark] .colab-df-convert {\n",
              "      background-color: #3B4455;\n",
              "      fill: #D2E3FC;\n",
              "    }\n",
              "\n",
              "    [theme=dark] .colab-df-convert:hover {\n",
              "      background-color: #434B5C;\n",
              "      box-shadow: 0px 1px 3px 1px rgba(0, 0, 0, 0.15);\n",
              "      filter: drop-shadow(0px 1px 2px rgba(0, 0, 0, 0.3));\n",
              "      fill: #FFFFFF;\n",
              "    }\n",
              "  </style>\n",
              "\n",
              "      <script>\n",
              "        const buttonEl =\n",
              "          document.querySelector('#df-29917efc-6bc8-4e03-8829-584693cab51d button.colab-df-convert');\n",
              "        buttonEl.style.display =\n",
              "          google.colab.kernel.accessAllowed ? 'block' : 'none';\n",
              "\n",
              "        async function convertToInteractive(key) {\n",
              "          const element = document.querySelector('#df-29917efc-6bc8-4e03-8829-584693cab51d');\n",
              "          const dataTable =\n",
              "            await google.colab.kernel.invokeFunction('convertToInteractive',\n",
              "                                                     [key], {});\n",
              "          if (!dataTable) return;\n",
              "\n",
              "          const docLinkHtml = 'Like what you see? Visit the ' +\n",
              "            '<a target=\"_blank\" href=https://colab.research.google.com/notebooks/data_table.ipynb>data table notebook</a>'\n",
              "            + ' to learn more about interactive tables.';\n",
              "          element.innerHTML = '';\n",
              "          dataTable['output_type'] = 'display_data';\n",
              "          await google.colab.output.renderOutput(dataTable, element);\n",
              "          const docLink = document.createElement('div');\n",
              "          docLink.innerHTML = docLinkHtml;\n",
              "          element.appendChild(docLink);\n",
              "        }\n",
              "      </script>\n",
              "    </div>\n",
              "  </div>\n",
              "  "
            ]
          },
          "metadata": {},
          "execution_count": 4
        }
      ],
      "source": [
        "df.head()"
      ],
      "id": "99165980-9125-4a58-9f62-7962d40b36ba"
    },
    {
      "cell_type": "code",
      "execution_count": 5,
      "metadata": {
        "colab": {
          "base_uri": "https://localhost:8080/"
        },
        "id": "e8347c0d-c316-4504-a697-ec2e96f55f61",
        "outputId": "7b4d7614-cd13-4647-f3c4-4f2bd93ee372"
      },
      "outputs": [
        {
          "output_type": "stream",
          "name": "stdout",
          "text": [
            "<class 'pandas.core.frame.DataFrame'>\n",
            "RangeIndex: 45211 entries, 0 to 45210\n",
            "Data columns (total 17 columns):\n",
            " #   Column     Non-Null Count  Dtype \n",
            "---  ------     --------------  ----- \n",
            " 0   age        45211 non-null  int64 \n",
            " 1   job        45211 non-null  object\n",
            " 2   marital    45211 non-null  object\n",
            " 3   education  45211 non-null  object\n",
            " 4   default    45211 non-null  object\n",
            " 5   balance    45211 non-null  int64 \n",
            " 6   housing    45211 non-null  object\n",
            " 7   loan       45211 non-null  object\n",
            " 8   contact    45211 non-null  object\n",
            " 9   day        45211 non-null  int64 \n",
            " 10  month      45211 non-null  object\n",
            " 11  duration   45211 non-null  int64 \n",
            " 12  campaign   45211 non-null  int64 \n",
            " 13  pdays      45211 non-null  int64 \n",
            " 14  previous   45211 non-null  int64 \n",
            " 15  poutcome   45211 non-null  object\n",
            " 16  y          45211 non-null  object\n",
            "dtypes: int64(7), object(10)\n",
            "memory usage: 5.9+ MB\n"
          ]
        }
      ],
      "source": [
        "df.info()"
      ],
      "id": "e8347c0d-c316-4504-a697-ec2e96f55f61"
    },
    {
      "cell_type": "markdown",
      "metadata": {
        "id": "e4c708e5-a319-4150-add1-012ac0cc4359"
      },
      "source": [
        "# PREPROCESSING"
      ],
      "id": "e4c708e5-a319-4150-add1-012ac0cc4359"
    },
    {
      "cell_type": "markdown",
      "metadata": {
        "id": "xgTPbbIYdGnd"
      },
      "source": [
        "## MISSING VALUES HANDLING"
      ],
      "id": "xgTPbbIYdGnd"
    },
    {
      "cell_type": "code",
      "execution_count": 6,
      "metadata": {
        "id": "6093e168-e805-44d2-a79a-defae6f92ee3"
      },
      "outputs": [],
      "source": [
        "df = df.drop(columns=['contact', 'day', 'month', 'previous', 'pdays'])"
      ],
      "id": "6093e168-e805-44d2-a79a-defae6f92ee3"
    },
    {
      "cell_type": "code",
      "execution_count": 7,
      "metadata": {
        "colab": {
          "base_uri": "https://localhost:8080/"
        },
        "id": "38e8fdeb-e7ae-4af0-9e8f-c5d392763cc7",
        "outputId": "7d702d6e-5cfd-4fe9-9d39-df7a4e8aa100"
      },
      "outputs": [
        {
          "output_type": "execute_result",
          "data": {
            "text/plain": [
              "age          0\n",
              "job          0\n",
              "marital      0\n",
              "education    0\n",
              "default      0\n",
              "balance      0\n",
              "housing      0\n",
              "loan         0\n",
              "duration     0\n",
              "campaign     0\n",
              "poutcome     0\n",
              "y            0\n",
              "dtype: int64"
            ]
          },
          "metadata": {},
          "execution_count": 7
        }
      ],
      "source": [
        "df.isna().sum()"
      ],
      "id": "38e8fdeb-e7ae-4af0-9e8f-c5d392763cc7"
    },
    {
      "cell_type": "code",
      "execution_count": 8,
      "metadata": {
        "id": "b3bc41ea-7b11-4242-8b32-ac20e8ec5ee3"
      },
      "outputs": [],
      "source": [
        "df_num = df.select_dtypes(exclude='object')\n",
        "df_cat = df.select_dtypes(include='object')"
      ],
      "id": "b3bc41ea-7b11-4242-8b32-ac20e8ec5ee3"
    },
    {
      "cell_type": "markdown",
      "metadata": {
        "id": "0d0a998a-bea2-479f-99b9-17e4d62ccce6"
      },
      "source": [
        "## OUTLIER HANDLING"
      ],
      "id": "0d0a998a-bea2-479f-99b9-17e4d62ccce6"
    },
    {
      "cell_type": "code",
      "execution_count": 9,
      "metadata": {
        "id": "0a31bb26-958c-43c6-83a4-842edfd36261"
      },
      "outputs": [],
      "source": [
        "def find_outliers(data):\n",
        "    Q1 = data.quantile(.25)\n",
        "    Q3 = data.quantile(.75)\n",
        "    \n",
        "    IQR = Q3 - Q1\n",
        "\n",
        "    min_IQR = Q1 - 1.5 * IQR\n",
        "    max_IQR = Q3 + 1.5 * IQR\n",
        "    \n",
        "    low_out = []\n",
        "    upper_out = []\n",
        "    \n",
        "    for i in data:\n",
        "        if(i < min_IQR):\n",
        "            low_out.append(i)\n",
        "        if(i > max_IQR):\n",
        "            upper_out.append(i)\n",
        "            \n",
        "    return low_out, upper_out"
      ],
      "id": "0a31bb26-958c-43c6-83a4-842edfd36261"
    },
    {
      "cell_type": "code",
      "execution_count": 10,
      "metadata": {
        "id": "ee6aae9a-5528-46d0-9e30-9735182c2407"
      },
      "outputs": [],
      "source": [
        "def outlierinfo(dataframe, feature):\n",
        "    lower_out = find_outliers(dataframe[feature])[0]\n",
        "    upper_out = find_outliers(dataframe[feature])[1]\n",
        "    \n",
        "    print(f'Jumlah Outlier = {len(lower_out) + len(upper_out)}')\n",
        "    persen_out = (len(lower_out) + len(upper_out))/len(dataframe)*100\n",
        "    print(f'Presentasi Outlier = {round(persen_out, 2)}%')\n",
        "    \n",
        "    iqr = dataframe[feature].quantile(.75) - dataframe[feature].quantile(.25)   \n",
        "    upper_limit = dataframe[feature].quantile(.75) + 1.5 * iqr\n",
        "    print('Upper_limit', upper_limit)\n",
        "    print('\\n')\n",
        "    \n",
        "    j = 0\n",
        "    for i in range(10):\n",
        "        print(f'quantile {0.90+j} = {dataframe[feature].quantile(0.90 + j)}')\n",
        "        j += 0.01"
      ],
      "id": "ee6aae9a-5528-46d0-9e30-9735182c2407"
    },
    {
      "cell_type": "markdown",
      "metadata": {
        "id": "503c3ac9-4990-41b3-af45-37289cab4899"
      },
      "source": [
        "### age"
      ],
      "id": "503c3ac9-4990-41b3-af45-37289cab4899"
    },
    {
      "cell_type": "code",
      "execution_count": 11,
      "metadata": {
        "id": "4fd62746-3f58-4178-a05e-2da03c375a89"
      },
      "outputs": [],
      "source": [
        "var = 'age'"
      ],
      "id": "4fd62746-3f58-4178-a05e-2da03c375a89"
    },
    {
      "cell_type": "code",
      "execution_count": 12,
      "metadata": {
        "colab": {
          "base_uri": "https://localhost:8080/"
        },
        "id": "fae35fb8-9a90-4d52-bbf2-d89b3e469658",
        "outputId": "f4d696e6-0d3d-4fdc-9777-8038f91b65aa"
      },
      "outputs": [
        {
          "output_type": "stream",
          "name": "stdout",
          "text": [
            "Jumlah Outlier = 487\n",
            "Presentasi Outlier = 1.08%\n",
            "Upper_limit 70.5\n",
            "\n",
            "\n",
            "quantile 0.9 = 56.0\n",
            "quantile 0.91 = 57.0\n",
            "quantile 0.92 = 57.0\n",
            "quantile 0.93 = 58.0\n",
            "quantile 0.9400000000000001 = 58.0\n",
            "quantile 0.9500000000000001 = 59.0\n",
            "quantile 0.9600000000000001 = 59.0\n",
            "quantile 0.97 = 60.0\n",
            "quantile 0.98 = 63.0\n",
            "quantile 0.99 = 71.0\n"
          ]
        }
      ],
      "source": [
        "outlierinfo(df_num, var)"
      ],
      "id": "fae35fb8-9a90-4d52-bbf2-d89b3e469658"
    },
    {
      "cell_type": "code",
      "execution_count": 13,
      "metadata": {
        "id": "8d49a48d-ee90-4bb7-a106-98db9a3d1fad"
      },
      "outputs": [],
      "source": [
        "df_num[f'{var}_win'] = stats.mstats.winsorize(df[var], limits=(0.0,0.02))"
      ],
      "id": "8d49a48d-ee90-4bb7-a106-98db9a3d1fad"
    },
    {
      "cell_type": "code",
      "execution_count": 14,
      "metadata": {
        "colab": {
          "base_uri": "https://localhost:8080/",
          "height": 282
        },
        "id": "4294ce00-1b9d-4351-b924-7676a68c8a74",
        "outputId": "0c783d8e-c5d1-4516-8ac8-5643044d172e"
      },
      "outputs": [
        {
          "output_type": "execute_result",
          "data": {
            "text/plain": [
              "<matplotlib.axes._subplots.AxesSubplot at 0x7fc3141c6d60>"
            ]
          },
          "metadata": {},
          "execution_count": 14
        },
        {
          "output_type": "display_data",
          "data": {
            "text/plain": [
              "<Figure size 432x288 with 1 Axes>"
            ],
            "image/png": "[encoded data removed]"
          },
          "metadata": {
            "needs_background": "light"
          }
        }
      ],
      "source": [
        "sns.boxplot(data = df_num[[var, f'{var}_win']], orient='h')"
      ],
      "id": "4294ce00-1b9d-4351-b924-7676a68c8a74"
    },
    {
      "cell_type": "markdown",
      "metadata": {
        "id": "ec570ae3-8b0f-4aa8-8a4e-bae10d9d9061"
      },
      "source": [
        "### balance"
      ],
      "id": "ec570ae3-8b0f-4aa8-8a4e-bae10d9d9061"
    },
    {
      "cell_type": "code",
      "execution_count": 15,
      "metadata": {
        "id": "f6f7dee6-6929-4bc8-b5c7-b2ada08644bd"
      },
      "outputs": [],
      "source": [
        "var = 'balance'"
      ],
      "id": "f6f7dee6-6929-4bc8-b5c7-b2ada08644bd"
    },
    {
      "cell_type": "code",
      "execution_count": 16,
      "metadata": {
        "colab": {
          "base_uri": "https://localhost:8080/"
        },
        "id": "dd73bf52-f387-4efb-9845-1fd98ae782dc",
        "outputId": "8033cced-b353-450b-e1b3-3b756d53a3ce"
      },
      "outputs": [
        {
          "output_type": "stream",
          "name": "stdout",
          "text": [
            "Jumlah Outlier = 4729\n",
            "Presentasi Outlier = 10.46%\n",
            "Upper_limit 3462.0\n",
            "\n",
            "\n",
            "quantile 0.9 = 3574.0\n",
            "quantile 0.91 = 3864.2999999999956\n",
            "quantile 0.92 = 4260.400000000009\n",
            "quantile 0.93 = 4687.300000000003\n",
            "quantile 0.9400000000000001 = 5134.599999999977\n",
            "quantile 0.9500000000000001 = 5768.0\n",
            "quantile 0.9600000000000001 = 6572.600000000006\n",
            "quantile 0.97 = 7777.89999999998\n",
            "quantile 0.98 = 9439.3999999999\n",
            "quantile 0.99 = 13164.900000000001\n"
          ]
        }
      ],
      "source": [
        "outlierinfo(df_num, var)"
      ],
      "id": "dd73bf52-f387-4efb-9845-1fd98ae782dc"
    },
    {
      "cell_type": "code",
      "execution_count": 17,
      "metadata": {
        "colab": {
          "base_uri": "https://localhost:8080/"
        },
        "id": "59372420-4e4c-4908-9cde-a8f0ef64f424",
        "outputId": "491426eb-3271-4687-ef7a-d373ab514212"
      },
      "outputs": [
        {
          "output_type": "execute_result",
          "data": {
            "text/plain": [
              "3321.0"
            ]
          },
          "metadata": {},
          "execution_count": 17
        }
      ],
      "source": [
        "df_num['balance'].quantile(0.89)"
      ],
      "id": "59372420-4e4c-4908-9cde-a8f0ef64f424"
    },
    {
      "cell_type": "code",
      "execution_count": 18,
      "metadata": {
        "id": "8e2c4726-dd68-489d-8a33-258d7a69ed0c"
      },
      "outputs": [],
      "source": [
        "df_num[f'{var}_win'] = stats.mstats.winsorize(df[var], limits=(0.0,0.11))"
      ],
      "id": "8e2c4726-dd68-489d-8a33-258d7a69ed0c"
    },
    {
      "cell_type": "code",
      "execution_count": 19,
      "metadata": {
        "colab": {
          "base_uri": "https://localhost:8080/",
          "height": 282
        },
        "id": "e5498ad6-7260-454e-8f2c-6df780aec522",
        "outputId": "b8535a53-8f4f-4fd6-ff12-93f1aaf96679"
      },
      "outputs": [
        {
          "output_type": "execute_result",
          "data": {
            "text/plain": [
              "<matplotlib.axes._subplots.AxesSubplot at 0x7fc313c6c2e0>"
            ]
          },
          "metadata": {},
          "execution_count": 19
        },
        {
          "output_type": "display_data",
          "data": {
            "text/plain": [
              "<Figure size 432x288 with 1 Axes>"
            ],
            "image/png": "[encoded data removed]"
          },
          "metadata": {
            "needs_background": "light"
          }
        }
      ],
      "source": [
        "sns.boxplot(data = df_num[[var, f'{var}_win']], orient='h')"
      ],
      "id": "e5498ad6-7260-454e-8f2c-6df780aec522"
    },
    {
      "cell_type": "markdown",
      "metadata": {
        "id": "287518ae-63e0-4682-812e-0f976f4a8c2c"
      },
      "source": [
        "### duration"
      ],
      "id": "287518ae-63e0-4682-812e-0f976f4a8c2c"
    },
    {
      "cell_type": "code",
      "execution_count": 20,
      "metadata": {
        "id": "57827ba1-7b9d-45df-a3ca-e3bedac11aeb"
      },
      "outputs": [],
      "source": [
        "var = 'duration'"
      ],
      "id": "57827ba1-7b9d-45df-a3ca-e3bedac11aeb"
    },
    {
      "cell_type": "code",
      "execution_count": 21,
      "metadata": {
        "colab": {
          "base_uri": "https://localhost:8080/"
        },
        "id": "23eca071-6614-4cc6-af82-66472fe14248",
        "outputId": "2982c722-9832-49f6-f548-fad80f9c6487"
      },
      "outputs": [
        {
          "output_type": "stream",
          "name": "stdout",
          "text": [
            "Jumlah Outlier = 3235\n",
            "Presentasi Outlier = 7.16%\n",
            "Upper_limit 643.0\n",
            "\n",
            "\n",
            "quantile 0.9 = 548.0\n",
            "quantile 0.91 = 579.0\n",
            "quantile 0.92 = 612.0\n",
            "quantile 0.93 = 650.0\n",
            "quantile 0.9400000000000001 = 696.0\n",
            "quantile 0.9500000000000001 = 751.0\n",
            "quantile 0.9600000000000001 = 823.0\n",
            "quantile 0.97 = 914.6999999999971\n",
            "quantile 0.98 = 1051.0\n",
            "quantile 0.99 = 1269.0\n"
          ]
        }
      ],
      "source": [
        "outlierinfo(df_num, var)"
      ],
      "id": "23eca071-6614-4cc6-af82-66472fe14248"
    },
    {
      "cell_type": "code",
      "execution_count": 22,
      "metadata": {
        "id": "0a65b0ce-6158-4ef1-84c8-a374432aa6b0"
      },
      "outputs": [],
      "source": [
        "df_num[f'{var}_win'] = stats.mstats.winsorize(df[var], limits=(0.0,0.08))"
      ],
      "id": "0a65b0ce-6158-4ef1-84c8-a374432aa6b0"
    },
    {
      "cell_type": "code",
      "execution_count": 23,
      "metadata": {
        "colab": {
          "base_uri": "https://localhost:8080/",
          "height": 0
        },
        "id": "d019a1af-79ef-4a09-a2ea-2da4dbcb3486",
        "outputId": "046df7ee-7e7d-4d2a-fb5a-7bc5b54939f5"
      },
      "outputs": [
        {
          "output_type": "execute_result",
          "data": {
            "text/plain": [
              "<matplotlib.axes._subplots.AxesSubplot at 0x7fc3141b49d0>"
            ]
          },
          "metadata": {},
          "execution_count": 23
        },
        {
          "output_type": "display_data",
          "data": {
            "text/plain": [
              "<Figure size 432x288 with 1 Axes>"
            ],
            "image/png": "[encoded data removed]"
          },
          "metadata": {
            "needs_background": "light"
          }
        }
      ],
      "source": [
        "sns.boxplot(data = df_num[[var, f'{var}_win']], orient='h')"
      ],
      "id": "d019a1af-79ef-4a09-a2ea-2da4dbcb3486"
    },
    {
      "cell_type": "markdown",
      "metadata": {
        "id": "0a8ecc94-86f5-4762-8b03-f51f56d9aedb"
      },
      "source": [
        "### campaign"
      ],
      "id": "0a8ecc94-86f5-4762-8b03-f51f56d9aedb"
    },
    {
      "cell_type": "code",
      "execution_count": 24,
      "metadata": {
        "id": "6ae08cf9-42fe-488b-b815-3c1c5c3f5c77"
      },
      "outputs": [],
      "source": [
        "var = 'campaign'"
      ],
      "id": "6ae08cf9-42fe-488b-b815-3c1c5c3f5c77"
    },
    {
      "cell_type": "code",
      "execution_count": 25,
      "metadata": {
        "colab": {
          "base_uri": "https://localhost:8080/"
        },
        "id": "b76766a4-29ad-4a4f-92db-97e14c6ec0e8",
        "outputId": "2a603c48-971e-466a-9a00-840ab3ba77a0"
      },
      "outputs": [
        {
          "output_type": "stream",
          "name": "stdout",
          "text": [
            "Jumlah Outlier = 3064\n",
            "Presentasi Outlier = 6.78%\n",
            "Upper_limit 6.0\n",
            "\n",
            "\n",
            "quantile 0.9 = 5.0\n",
            "quantile 0.91 = 6.0\n",
            "quantile 0.92 = 6.0\n",
            "quantile 0.93 = 6.0\n",
            "quantile 0.9400000000000001 = 7.0\n",
            "quantile 0.9500000000000001 = 8.0\n",
            "quantile 0.9600000000000001 = 8.0\n",
            "quantile 0.97 = 10.0\n",
            "quantile 0.98 = 12.0\n",
            "quantile 0.99 = 16.0\n"
          ]
        }
      ],
      "source": [
        "outlierinfo(df_num, var)"
      ],
      "id": "b76766a4-29ad-4a4f-92db-97e14c6ec0e8"
    },
    {
      "cell_type": "code",
      "execution_count": 26,
      "metadata": {
        "id": "93da86cf-dccd-4cf4-8d12-fc3f8f848f65"
      },
      "outputs": [],
      "source": [
        "df_num[f'{var}_win'] = stats.mstats.winsorize(df[var], limits=(0.0,0.10))"
      ],
      "id": "93da86cf-dccd-4cf4-8d12-fc3f8f848f65"
    },
    {
      "cell_type": "code",
      "execution_count": 27,
      "metadata": {
        "colab": {
          "base_uri": "https://localhost:8080/",
          "height": 282
        },
        "id": "d786bc46-daaa-40d2-9c6a-5e274fd18906",
        "outputId": "bf428260-9b85-483f-f4c9-4311085e105f"
      },
      "outputs": [
        {
          "output_type": "execute_result",
          "data": {
            "text/plain": [
              "<matplotlib.axes._subplots.AxesSubplot at 0x7fc313bdbca0>"
            ]
          },
          "metadata": {},
          "execution_count": 27
        },
        {
          "output_type": "display_data",
          "data": {
            "text/plain": [
              "<Figure size 432x288 with 1 Axes>"
            ],
            "image/png": "[encoded data removed]"
          },
          "metadata": {
            "needs_background": "light"
          }
        }
      ],
      "source": [
        "sns.boxplot(data = df_num[[var, f'{var}_win']], orient='h')"
      ],
      "id": "d786bc46-daaa-40d2-9c6a-5e274fd18906"
    },
    {
      "cell_type": "markdown",
      "metadata": {
        "id": "jIdyxJ-ZdZyR"
      },
      "source": [
        "# EDA"
      ],
      "id": "jIdyxJ-ZdZyR"
    },
    {
      "cell_type": "markdown",
      "metadata": {
        "id": "JxbW_6YRRWFB"
      },
      "source": [
        "## TARGET FEATURE"
      ],
      "id": "JxbW_6YRRWFB"
    },
    {
      "cell_type": "code",
      "execution_count": 28,
      "metadata": {
        "colab": {
          "base_uri": "https://localhost:8080/",
          "height": 320
        },
        "id": "rOrFfeGWNEAl",
        "outputId": "9aa3bafe-9c3e-4003-aef2-f5067515d1f2"
      },
      "outputs": [
        {
          "output_type": "display_data",
          "data": {
            "text/plain": [
              "<Figure size 360x360 with 1 Axes>"
            ],
            "image/png": "[encoded data removed]"
          },
          "metadata": {}
        }
      ],
      "source": [
        "plt.figure(figsize = (5,5))\n",
        "plt.title('Subscribed A Term Deposit', fontsize = 14)\n",
        "\n",
        "labels = 'no', 'yes'\n",
        "\n",
        "plt.pie(df['y'].value_counts(), autopct = '%.0f%%', \n",
        "        textprops = {'fontsize' : 17, 'color' : 'white'}, explode = (0.1,0))\n",
        "\n",
        "plt.legend(labels, loc='lower left', fontsize = 13)\n",
        "\n",
        "plt.show()"
      ],
      "id": "rOrFfeGWNEAl"
    },
    {
      "cell_type": "code",
      "execution_count": 29,
      "metadata": {
        "colab": {
          "base_uri": "https://localhost:8080/"
        },
        "id": "pSTFMSdvNF2u",
        "outputId": "2630b9fb-4875-4364-e7f2-14721f232808"
      },
      "outputs": [
        {
          "output_type": "execute_result",
          "data": {
            "text/plain": [
              "no     39922\n",
              "yes     5289\n",
              "Name: y, dtype: int64"
            ]
          },
          "metadata": {},
          "execution_count": 29
        }
      ],
      "source": [
        "df['y'].value_counts()"
      ],
      "id": "pSTFMSdvNF2u"
    },
    {
      "cell_type": "markdown",
      "metadata": {
        "id": "f0CmkL8iNK08"
      },
      "source": [
        "> - From the output obtained, there are 5289 (11.70%) who are subscribed, while those who are not subscribed are 39922 (88.3%)"
      ],
      "id": "f0CmkL8iNK08"
    },
    {
      "cell_type": "markdown",
      "metadata": {
        "id": "UQLjlqbjRd9Y"
      },
      "source": [
        "## NUMERICAL FEATURES"
      ],
      "id": "UQLjlqbjRd9Y"
    },
    {
      "cell_type": "code",
      "execution_count": 30,
      "metadata": {
        "id": "BhDa8hCuNT73"
      },
      "outputs": [],
      "source": [
        "def plotNumerical(dataframe, column):\n",
        "    plt.figure(figsize = (8,4))\n",
        "    ax = sns.distplot(dataframe[(dataframe['y'] == 'no')][column])\n",
        "    ax = sns.distplot(dataframe[(dataframe['y'] == 'yes')][column])\n",
        "    ax.legend(['No', 'Yes'])\n",
        "    \n",
        "    plt.xlabel(column, fontsize = 12) \n",
        "    plt.title('Distribution of Subscribed A Term Deposit by '+column, fontsize = 15)\n",
        "    \n",
        "    plt.tight_layout()\n",
        "    plt.show()\n",
        "\n",
        "    data = pd.crosstab(df[column],df[\"y\"])\n",
        "    data[\"yes percentage\"] = 100*data[\"yes\"]/(data[\"yes\"]+data[\"no\"])\n",
        "    data[\"no percentage\"] = 100*data[\"no\"]/(data[\"yes\"]+data[\"no\"])\n",
        "    \n",
        "    return data.sort_values(by=[\"yes\", \"yes percentage\"], ascending=False)"
      ],
      "id": "BhDa8hCuNT73"
    },
    {
      "cell_type": "code",
      "execution_count": 31,
      "metadata": {
        "colab": {
          "base_uri": "https://localhost:8080/",
          "height": 735
        },
        "id": "RtkQ4ZAfNZmp",
        "outputId": "7c299829-7928-4b1e-afee-5a7f37a8748d"
      },
      "outputs": [
        {
          "output_type": "display_data",
          "data": {
            "text/plain": [
              "<Figure size 576x288 with 1 Axes>"
            ],
            "image/png": "[encoded data removed]"
          },
          "metadata": {
            "needs_background": "light"
          }
        },
        {
          "output_type": "execute_result",
          "data": {
            "text/plain": [
              "y      no  yes  yes percentage  no percentage\n",
              "age                                          \n",
              "32   1864  221       10.599520      89.400480\n",
              "30   1540  217       12.350598      87.649402\n",
              "33   1762  210       10.649087      89.350913\n",
              "35   1685  209       11.034847      88.965153\n",
              "31   1790  206       10.320641      89.679359\n",
              "..    ...  ...             ...            ...\n",
              "93      0    2      100.000000       0.000000\n",
              "95      1    1       50.000000      50.000000\n",
              "88      2    0        0.000000     100.000000\n",
              "89      3    0        0.000000     100.000000\n",
              "94      1    0        0.000000     100.000000\n",
              "\n",
              "[77 rows x 4 columns]"
            ],
            "text/html": [
              "\n",
              "  <div id=\"df-9d5bb161-14da-4363-ae53-b9dacb56a006\">\n",
              "    <div class=\"colab-df-container\">\n",
              "      <div>\n",
              "<style scoped>\n",
              "    .dataframe tbody tr th:only-of-type {\n",
              "        vertical-align: middle;\n",
              "    }\n",
              "\n",
              "    .dataframe tbody tr th {\n",
              "        vertical-align: top;\n",
              "    }\n",
              "\n",
              "    .dataframe thead th {\n",
              "        text-align: right;\n",
              "    }\n",
              "</style>\n",
              "<table border=\"1\" class=\"dataframe\">\n",
              "  <thead>\n",
              "    <tr style=\"text-align: right;\">\n",
              "      <th>y</th>\n",
              "      <th>no</th>\n",
              "      <th>yes</th>\n",
              "      <th>yes percentage</th>\n",
              "      <th>no percentage</th>\n",
              "    </tr>\n",
              "    <tr>\n",
              "      <th>age</th>\n",
              "      <th></th>\n",
              "      <th></th>\n",
              "      <th></th>\n",
              "      <th></th>\n",
              "    </tr>\n",
              "  </thead>\n",
              "  <tbody>\n",
              "    <tr>\n",
              "      <th>32</th>\n",
              "      <td>1864</td>\n",
              "      <td>221</td>\n",
              "      <td>10.599520</td>\n",
              "      <td>89.400480</td>\n",
              "    </tr>\n",
              "    <tr>\n",
              "      <th>30</th>\n",
              "      <td>1540</td>\n",
              "      <td>217</td>\n",
              "      <td>12.350598</td>\n",
              "      <td>87.649402</td>\n",
              "    </tr>\n",
              "    <tr>\n",
              "      <th>33</th>\n",
              "      <td>1762</td>\n",
              "      <td>210</td>\n",
              "      <td>10.649087</td>\n",
              "      <td>89.350913</td>\n",
              "    </tr>\n",
              "    <tr>\n",
              "      <th>35</th>\n",
              "      <td>1685</td>\n",
              "      <td>209</td>\n",
              "      <td>11.034847</td>\n",
              "      <td>88.965153</td>\n",
              "    </tr>\n",
              "    <tr>\n",
              "      <th>31</th>\n",
              "      <td>1790</td>\n",
              "      <td>206</td>\n",
              "      <td>10.320641</td>\n",
              "      <td>89.679359</td>\n",
              "    </tr>\n",
              "    <tr>\n",
              "      <th>...</th>\n",
              "      <td>...</td>\n",
              "      <td>...</td>\n",
              "      <td>...</td>\n",
              "      <td>...</td>\n",
              "    </tr>\n",
              "    <tr>\n",
              "      <th>93</th>\n",
              "      <td>0</td>\n",
              "      <td>2</td>\n",
              "      <td>100.000000</td>\n",
              "      <td>0.000000</td>\n",
              "    </tr>\n",
              "    <tr>\n",
              "      <th>95</th>\n",
              "      <td>1</td>\n",
              "      <td>1</td>\n",
              "      <td>50.000000</td>\n",
              "      <td>50.000000</td>\n",
              "    </tr>\n",
              "    <tr>\n",
              "      <th>88</th>\n",
              "      <td>2</td>\n",
              "      <td>0</td>\n",
              "      <td>0.000000</td>\n",
              "      <td>100.000000</td>\n",
              "    </tr>\n",
              "    <tr>\n",
              "      <th>89</th>\n",
              "      <td>3</td>\n",
              "      <td>0</td>\n",
              "      <td>0.000000</td>\n",
              "      <td>100.000000</td>\n",
              "    </tr>\n",
              "    <tr>\n",
              "      <th>94</th>\n",
              "      <td>1</td>\n",
              "      <td>0</td>\n",
              "      <td>0.000000</td>\n",
              "      <td>100.000000</td>\n",
              "    </tr>\n",
              "  </tbody>\n",
              "</table>\n",
              "<p>77 rows × 4 columns</p>\n",
              "</div>\n",
              "      <button class=\"colab-df-convert\" onclick=\"convertToInteractive('df-9d5bb161-14da-4363-ae53-b9dacb56a006')\"\n",
              "              title=\"Convert this dataframe to an interactive table.\"\n",
              "              style=\"display:none;\">\n",
              "        \n",
              "  <svg xmlns=\"http://www.w3.org/2000/svg\" height=\"24px\"viewBox=\"0 0 24 24\"\n",
              "       width=\"24px\">\n",
              "    <path d=\"M0 0h24v24H0V0z\" fill=\"none\"/>\n",
              "    <path d=\"M18.56 5.44l.94 2.06.94-2.06 2.06-.94-2.06-.94-.94-2.06-.94 2.06-2.06.94zm-11 1L8.5 8.5l.94-2.06 2.06-.94-2.06-.94L8.5 2.5l-.94 2.06-2.06.94zm10 10l.94 2.06.94-2.06 2.06-.94-2.06-.94-.94-2.06-.94 2.06-2.06.94z\"/><path d=\"M17.41 7.96l-1.37-1.37c-.4-.4-.92-.59-1.43-.59-.52 0-1.04.2-1.43.59L10.3 9.45l-7.72 7.72c-.78.78-.78 2.05 0 2.83L4 21.41c.39.39.9.59 1.41.59.51 0 1.02-.2 1.41-.59l7.78-7.78 2.81-2.81c.8-.78.8-2.07 0-2.86zM5.41 20L4 18.59l7.72-7.72 1.47 1.35L5.41 20z\"/>\n",
              "  </svg>\n",
              "      </button>\n",
              "      \n",
              "  <style>\n",
              "    .colab-df-container {\n",
              "      display:flex;\n",
              "      flex-wrap:wrap;\n",
              "      gap: 12px;\n",
              "    }\n",
              "\n",
              "    .colab-df-convert {\n",
              "      background-color: #E8F0FE;\n",
              "      border: none;\n",
              "      border-radius: 50%;\n",
              "      cursor: pointer;\n",
              "      display: none;\n",
              "      fill: #1967D2;\n",
              "      height: 32px;\n",
              "      padding: 0 0 0 0;\n",
              "      width: 32px;\n",
              "    }\n",
              "\n",
              "    .colab-df-convert:hover {\n",
              "      background-color: #E2EBFA;\n",
              "      box-shadow: 0px 1px 2px rgba(60, 64, 67, 0.3), 0px 1px 3px 1px rgba(60, 64, 67, 0.15);\n",
              "      fill: #174EA6;\n",
              "    }\n",
              "\n",
              "    [theme=dark] .colab-df-convert {\n",
              "      background-color: #3B4455;\n",
              "      fill: #D2E3FC;\n",
              "    }\n",
              "\n",
              "    [theme=dark] .colab-df-convert:hover {\n",
              "      background-color: #434B5C;\n",
              "      box-shadow: 0px 1px 3px 1px rgba(0, 0, 0, 0.15);\n",
              "      filter: drop-shadow(0px 1px 2px rgba(0, 0, 0, 0.3));\n",
              "      fill: #FFFFFF;\n",
              "    }\n",
              "  </style>\n",
              "\n",
              "      <script>\n",
              "        const buttonEl =\n",
              "          document.querySelector('#df-9d5bb161-14da-4363-ae53-b9dacb56a006 button.colab-df-convert');\n",
              "        buttonEl.style.display =\n",
              "          google.colab.kernel.accessAllowed ? 'block' : 'none';\n",
              "\n",
              "        async function convertToInteractive(key) {\n",
              "          const element = document.querySelector('#df-9d5bb161-14da-4363-ae53-b9dacb56a006');\n",
              "          const dataTable =\n",
              "            await google.colab.kernel.invokeFunction('convertToInteractive',\n",
              "                                                     [key], {});\n",
              "          if (!dataTable) return;\n",
              "\n",
              "          const docLinkHtml = 'Like what you see? Visit the ' +\n",
              "            '<a target=\"_blank\" href=https://colab.research.google.com/notebooks/data_table.ipynb>data table notebook</a>'\n",
              "            + ' to learn more about interactive tables.';\n",
              "          element.innerHTML = '';\n",
              "          dataTable['output_type'] = 'display_data';\n",
              "          await google.colab.output.renderOutput(dataTable, element);\n",
              "          const docLink = document.createElement('div');\n",
              "          docLink.innerHTML = docLinkHtml;\n",
              "          element.appendChild(docLink);\n",
              "        }\n",
              "      </script>\n",
              "    </div>\n",
              "  </div>\n",
              "  "
            ]
          },
          "metadata": {},
          "execution_count": 31
        }
      ],
      "source": [
        "plotNumerical(df, 'age')"
      ],
      "id": "RtkQ4ZAfNZmp"
    },
    {
      "cell_type": "markdown",
      "metadata": {
        "id": "zR08e8bdOUJy"
      },
      "source": [
        ">Based on the age distribution table, it can be seen that yes the percentage will be large in the age range > 60."
      ],
      "id": "zR08e8bdOUJy"
    },
    {
      "cell_type": "code",
      "execution_count": 32,
      "metadata": {
        "colab": {
          "base_uri": "https://localhost:8080/",
          "height": 735
        },
        "id": "9IvzYuUANsAe",
        "outputId": "381c6c21-763a-4cb1-97b5-f14f82321f4b"
      },
      "outputs": [
        {
          "output_type": "display_data",
          "data": {
            "text/plain": [
              "<Figure size 576x288 with 1 Axes>"
            ],
            "image/png": "[encoded data removed]"
          },
          "metadata": {
            "needs_background": "light"
          }
        },
        {
          "output_type": "execute_result",
          "data": {
            "text/plain": [
              "y          no  yes  yes percentage  no percentage\n",
              "duration                                         \n",
              "261        54   19       26.027397      73.972603\n",
              "226       101   17       14.406780      85.593220\n",
              "229        71   16       18.390805      81.609195\n",
              "232        74   16       17.777778      82.222222\n",
              "187       104   16       13.333333      86.666667\n",
              "...       ...  ...             ...            ...\n",
              "3322        1    0        0.000000     100.000000\n",
              "3366        1    0        0.000000     100.000000\n",
              "3422        1    0        0.000000     100.000000\n",
              "3785        1    0        0.000000     100.000000\n",
              "4918        1    0        0.000000     100.000000\n",
              "\n",
              "[1573 rows x 4 columns]"
            ],
            "text/html": [
              "\n",
              "  <div id=\"df-0fcc7c81-38bf-426f-bf14-393607190c2a\">\n",
              "    <div class=\"colab-df-container\">\n",
              "      <div>\n",
              "<style scoped>\n",
              "    .dataframe tbody tr th:only-of-type {\n",
              "        vertical-align: middle;\n",
              "    }\n",
              "\n",
              "    .dataframe tbody tr th {\n",
              "        vertical-align: top;\n",
              "    }\n",
              "\n",
              "    .dataframe thead th {\n",
              "        text-align: right;\n",
              "    }\n",
              "</style>\n",
              "<table border=\"1\" class=\"dataframe\">\n",
              "  <thead>\n",
              "    <tr style=\"text-align: right;\">\n",
              "      <th>y</th>\n",
              "      <th>no</th>\n",
              "      <th>yes</th>\n",
              "      <th>yes percentage</th>\n",
              "      <th>no percentage</th>\n",
              "    </tr>\n",
              "    <tr>\n",
              "      <th>duration</th>\n",
              "      <th></th>\n",
              "      <th></th>\n",
              "      <th></th>\n",
              "      <th></th>\n",
              "    </tr>\n",
              "  </thead>\n",
              "  <tbody>\n",
              "    <tr>\n",
              "      <th>261</th>\n",
              "      <td>54</td>\n",
              "      <td>19</td>\n",
              "      <td>26.027397</td>\n",
              "      <td>73.972603</td>\n",
              "    </tr>\n",
              "    <tr>\n",
              "      <th>226</th>\n",
              "      <td>101</td>\n",
              "      <td>17</td>\n",
              "      <td>14.406780</td>\n",
              "      <td>85.593220</td>\n",
              "    </tr>\n",
              "    <tr>\n",
              "      <th>229</th>\n",
              "      <td>71</td>\n",
              "      <td>16</td>\n",
              "      <td>18.390805</td>\n",
              "      <td>81.609195</td>\n",
              "    </tr>\n",
              "    <tr>\n",
              "      <th>232</th>\n",
              "      <td>74</td>\n",
              "      <td>16</td>\n",
              "      <td>17.777778</td>\n",
              "      <td>82.222222</td>\n",
              "    </tr>\n",
              "    <tr>\n",
              "      <th>187</th>\n",
              "      <td>104</td>\n",
              "      <td>16</td>\n",
              "      <td>13.333333</td>\n",
              "      <td>86.666667</td>\n",
              "    </tr>\n",
              "    <tr>\n",
              "      <th>...</th>\n",
              "      <td>...</td>\n",
              "      <td>...</td>\n",
              "      <td>...</td>\n",
              "      <td>...</td>\n",
              "    </tr>\n",
              "    <tr>\n",
              "      <th>3322</th>\n",
              "      <td>1</td>\n",
              "      <td>0</td>\n",
              "      <td>0.000000</td>\n",
              "      <td>100.000000</td>\n",
              "    </tr>\n",
              "    <tr>\n",
              "      <th>3366</th>\n",
              "      <td>1</td>\n",
              "      <td>0</td>\n",
              "      <td>0.000000</td>\n",
              "      <td>100.000000</td>\n",
              "    </tr>\n",
              "    <tr>\n",
              "      <th>3422</th>\n",
              "      <td>1</td>\n",
              "      <td>0</td>\n",
              "      <td>0.000000</td>\n",
              "      <td>100.000000</td>\n",
              "    </tr>\n",
              "    <tr>\n",
              "      <th>3785</th>\n",
              "      <td>1</td>\n",
              "      <td>0</td>\n",
              "      <td>0.000000</td>\n",
              "      <td>100.000000</td>\n",
              "    </tr>\n",
              "    <tr>\n",
              "      <th>4918</th>\n",
              "      <td>1</td>\n",
              "      <td>0</td>\n",
              "      <td>0.000000</td>\n",
              "      <td>100.000000</td>\n",
              "    </tr>\n",
              "  </tbody>\n",
              "</table>\n",
              "<p>1573 rows × 4 columns</p>\n",
              "</div>\n",
              "      <button class=\"colab-df-convert\" onclick=\"convertToInteractive('df-0fcc7c81-38bf-426f-bf14-393607190c2a')\"\n",
              "              title=\"Convert this dataframe to an interactive table.\"\n",
              "              style=\"display:none;\">\n",
              "        \n",
              "  <svg xmlns=\"http://www.w3.org/2000/svg\" height=\"24px\"viewBox=\"0 0 24 24\"\n",
              "       width=\"24px\">\n",
              "    <path d=\"M0 0h24v24H0V0z\" fill=\"none\"/>\n",
              "    <path d=\"M18.56 5.44l.94 2.06.94-2.06 2.06-.94-2.06-.94-.94-2.06-.94 2.06-2.06.94zm-11 1L8.5 8.5l.94-2.06 2.06-.94-2.06-.94L8.5 2.5l-.94 2.06-2.06.94zm10 10l.94 2.06.94-2.06 2.06-.94-2.06-.94-.94-2.06-.94 2.06-2.06.94z\"/><path d=\"M17.41 7.96l-1.37-1.37c-.4-.4-.92-.59-1.43-.59-.52 0-1.04.2-1.43.59L10.3 9.45l-7.72 7.72c-.78.78-.78 2.05 0 2.83L4 21.41c.39.39.9.59 1.41.59.51 0 1.02-.2 1.41-.59l7.78-7.78 2.81-2.81c.8-.78.8-2.07 0-2.86zM5.41 20L4 18.59l7.72-7.72 1.47 1.35L5.41 20z\"/>\n",
              "  </svg>\n",
              "      </button>\n",
              "      \n",
              "  <style>\n",
              "    .colab-df-container {\n",
              "      display:flex;\n",
              "      flex-wrap:wrap;\n",
              "      gap: 12px;\n",
              "    }\n",
              "\n",
              "    .colab-df-convert {\n",
              "      background-color: #E8F0FE;\n",
              "      border: none;\n",
              "      border-radius: 50%;\n",
              "      cursor: pointer;\n",
              "      display: none;\n",
              "      fill: #1967D2;\n",
              "      height: 32px;\n",
              "      padding: 0 0 0 0;\n",
              "      width: 32px;\n",
              "    }\n",
              "\n",
              "    .colab-df-convert:hover {\n",
              "      background-color: #E2EBFA;\n",
              "      box-shadow: 0px 1px 2px rgba(60, 64, 67, 0.3), 0px 1px 3px 1px rgba(60, 64, 67, 0.15);\n",
              "      fill: #174EA6;\n",
              "    }\n",
              "\n",
              "    [theme=dark] .colab-df-convert {\n",
              "      background-color: #3B4455;\n",
              "      fill: #D2E3FC;\n",
              "    }\n",
              "\n",
              "    [theme=dark] .colab-df-convert:hover {\n",
              "      background-color: #434B5C;\n",
              "      box-shadow: 0px 1px 3px 1px rgba(0, 0, 0, 0.15);\n",
              "      filter: drop-shadow(0px 1px 2px rgba(0, 0, 0, 0.3));\n",
              "      fill: #FFFFFF;\n",
              "    }\n",
              "  </style>\n",
              "\n",
              "      <script>\n",
              "        const buttonEl =\n",
              "          document.querySelector('#df-0fcc7c81-38bf-426f-bf14-393607190c2a button.colab-df-convert');\n",
              "        buttonEl.style.display =\n",
              "          google.colab.kernel.accessAllowed ? 'block' : 'none';\n",
              "\n",
              "        async function convertToInteractive(key) {\n",
              "          const element = document.querySelector('#df-0fcc7c81-38bf-426f-bf14-393607190c2a');\n",
              "          const dataTable =\n",
              "            await google.colab.kernel.invokeFunction('convertToInteractive',\n",
              "                                                     [key], {});\n",
              "          if (!dataTable) return;\n",
              "\n",
              "          const docLinkHtml = 'Like what you see? Visit the ' +\n",
              "            '<a target=\"_blank\" href=https://colab.research.google.com/notebooks/data_table.ipynb>data table notebook</a>'\n",
              "            + ' to learn more about interactive tables.';\n",
              "          element.innerHTML = '';\n",
              "          dataTable['output_type'] = 'display_data';\n",
              "          await google.colab.output.renderOutput(dataTable, element);\n",
              "          const docLink = document.createElement('div');\n",
              "          docLink.innerHTML = docLinkHtml;\n",
              "          element.appendChild(docLink);\n",
              "        }\n",
              "      </script>\n",
              "    </div>\n",
              "  </div>\n",
              "  "
            ]
          },
          "metadata": {},
          "execution_count": 32
        }
      ],
      "source": [
        "plotNumerical(df, 'duration')"
      ],
      "id": "9IvzYuUANsAe"
    },
    {
      "cell_type": "markdown",
      "metadata": {
        "id": "KKrti2TROhVQ"
      },
      "source": [
        "> The last contact duration in seconds seems successful enough to attract deposit customers at more than 537 seconds. This makes sense because when the communication is long, it proves that the intended person is someone who is interested in the deposit campaign."
      ],
      "id": "KKrti2TROhVQ"
    },
    {
      "cell_type": "code",
      "execution_count": 33,
      "metadata": {
        "colab": {
          "base_uri": "https://localhost:8080/",
          "height": 735
        },
        "id": "w2woncsARQsi",
        "outputId": "c0169e2b-2b59-4ad4-8d20-a94081c4075b"
      },
      "outputs": [
        {
          "output_type": "display_data",
          "data": {
            "text/plain": [
              "<Figure size 576x288 with 1 Axes>"
            ],
            "image/png": "[encoded data removed]"
          },
          "metadata": {
            "needs_background": "light"
          }
        },
        {
          "output_type": "execute_result",
          "data": {
            "text/plain": [
              "y          no  yes  yes percentage  no percentage\n",
              "balance                                          \n",
              "0        3222  292        8.309619      91.690381\n",
              "1         178   17        8.717949      91.282051\n",
              "2         140   16       10.256410      89.743590\n",
              "5          98   15       13.274336      86.725664\n",
              "294        22   12       35.294118      64.705882\n",
              "...       ...  ...             ...            ...\n",
              "66653       1    0        0.000000     100.000000\n",
              "66721       1    0        0.000000     100.000000\n",
              "71188       1    0        0.000000     100.000000\n",
              "98417       1    0        0.000000     100.000000\n",
              "102127      1    0        0.000000     100.000000\n",
              "\n",
              "[7168 rows x 4 columns]"
            ],
            "text/html": [
              "\n",
              "  <div id=\"df-b780addf-79d8-4cb9-b08c-b1348249d8d3\">\n",
              "    <div class=\"colab-df-container\">\n",
              "      <div>\n",
              "<style scoped>\n",
              "    .dataframe tbody tr th:only-of-type {\n",
              "        vertical-align: middle;\n",
              "    }\n",
              "\n",
              "    .dataframe tbody tr th {\n",
              "        vertical-align: top;\n",
              "    }\n",
              "\n",
              "    .dataframe thead th {\n",
              "        text-align: right;\n",
              "    }\n",
              "</style>\n",
              "<table border=\"1\" class=\"dataframe\">\n",
              "  <thead>\n",
              "    <tr style=\"text-align: right;\">\n",
              "      <th>y</th>\n",
              "      <th>no</th>\n",
              "      <th>yes</th>\n",
              "      <th>yes percentage</th>\n",
              "      <th>no percentage</th>\n",
              "    </tr>\n",
              "    <tr>\n",
              "      <th>balance</th>\n",
              "      <th></th>\n",
              "      <th></th>\n",
              "      <th></th>\n",
              "      <th></th>\n",
              "    </tr>\n",
              "  </thead>\n",
              "  <tbody>\n",
              "    <tr>\n",
              "      <th>0</th>\n",
              "      <td>3222</td>\n",
              "      <td>292</td>\n",
              "      <td>8.309619</td>\n",
              "      <td>91.690381</td>\n",
              "    </tr>\n",
              "    <tr>\n",
              "      <th>1</th>\n",
              "      <td>178</td>\n",
              "      <td>17</td>\n",
              "      <td>8.717949</td>\n",
              "      <td>91.282051</td>\n",
              "    </tr>\n",
              "    <tr>\n",
              "      <th>2</th>\n",
              "      <td>140</td>\n",
              "      <td>16</td>\n",
              "      <td>10.256410</td>\n",
              "      <td>89.743590</td>\n",
              "    </tr>\n",
              "    <tr>\n",
              "      <th>5</th>\n",
              "      <td>98</td>\n",
              "      <td>15</td>\n",
              "      <td>13.274336</td>\n",
              "      <td>86.725664</td>\n",
              "    </tr>\n",
              "    <tr>\n",
              "      <th>294</th>\n",
              "      <td>22</td>\n",
              "      <td>12</td>\n",
              "      <td>35.294118</td>\n",
              "      <td>64.705882</td>\n",
              "    </tr>\n",
              "    <tr>\n",
              "      <th>...</th>\n",
              "      <td>...</td>\n",
              "      <td>...</td>\n",
              "      <td>...</td>\n",
              "      <td>...</td>\n",
              "    </tr>\n",
              "    <tr>\n",
              "      <th>66653</th>\n",
              "      <td>1</td>\n",
              "      <td>0</td>\n",
              "      <td>0.000000</td>\n",
              "      <td>100.000000</td>\n",
              "    </tr>\n",
              "    <tr>\n",
              "      <th>66721</th>\n",
              "      <td>1</td>\n",
              "      <td>0</td>\n",
              "      <td>0.000000</td>\n",
              "      <td>100.000000</td>\n",
              "    </tr>\n",
              "    <tr>\n",
              "      <th>71188</th>\n",
              "      <td>1</td>\n",
              "      <td>0</td>\n",
              "      <td>0.000000</td>\n",
              "      <td>100.000000</td>\n",
              "    </tr>\n",
              "    <tr>\n",
              "      <th>98417</th>\n",
              "      <td>1</td>\n",
              "      <td>0</td>\n",
              "      <td>0.000000</td>\n",
              "      <td>100.000000</td>\n",
              "    </tr>\n",
              "    <tr>\n",
              "      <th>102127</th>\n",
              "      <td>1</td>\n",
              "      <td>0</td>\n",
              "      <td>0.000000</td>\n",
              "      <td>100.000000</td>\n",
              "    </tr>\n",
              "  </tbody>\n",
              "</table>\n",
              "<p>7168 rows × 4 columns</p>\n",
              "</div>\n",
              "      <button class=\"colab-df-convert\" onclick=\"convertToInteractive('df-b780addf-79d8-4cb9-b08c-b1348249d8d3')\"\n",
              "              title=\"Convert this dataframe to an interactive table.\"\n",
              "              style=\"display:none;\">\n",
              "        \n",
              "  <svg xmlns=\"http://www.w3.org/2000/svg\" height=\"24px\"viewBox=\"0 0 24 24\"\n",
              "       width=\"24px\">\n",
              "    <path d=\"M0 0h24v24H0V0z\" fill=\"none\"/>\n",
              "    <path d=\"M18.56 5.44l.94 2.06.94-2.06 2.06-.94-2.06-.94-.94-2.06-.94 2.06-2.06.94zm-11 1L8.5 8.5l.94-2.06 2.06-.94-2.06-.94L8.5 2.5l-.94 2.06-2.06.94zm10 10l.94 2.06.94-2.06 2.06-.94-2.06-.94-.94-2.06-.94 2.06-2.06.94z\"/><path d=\"M17.41 7.96l-1.37-1.37c-.4-.4-.92-.59-1.43-.59-.52 0-1.04.2-1.43.59L10.3 9.45l-7.72 7.72c-.78.78-.78 2.05 0 2.83L4 21.41c.39.39.9.59 1.41.59.51 0 1.02-.2 1.41-.59l7.78-7.78 2.81-2.81c.8-.78.8-2.07 0-2.86zM5.41 20L4 18.59l7.72-7.72 1.47 1.35L5.41 20z\"/>\n",
              "  </svg>\n",
              "      </button>\n",
              "      \n",
              "  <style>\n",
              "    .colab-df-container {\n",
              "      display:flex;\n",
              "      flex-wrap:wrap;\n",
              "      gap: 12px;\n",
              "    }\n",
              "\n",
              "    .colab-df-convert {\n",
              "      background-color: #E8F0FE;\n",
              "      border: none;\n",
              "      border-radius: 50%;\n",
              "      cursor: pointer;\n",
              "      display: none;\n",
              "      fill: #1967D2;\n",
              "      height: 32px;\n",
              "      padding: 0 0 0 0;\n",
              "      width: 32px;\n",
              "    }\n",
              "\n",
              "    .colab-df-convert:hover {\n",
              "      background-color: #E2EBFA;\n",
              "      box-shadow: 0px 1px 2px rgba(60, 64, 67, 0.3), 0px 1px 3px 1px rgba(60, 64, 67, 0.15);\n",
              "      fill: #174EA6;\n",
              "    }\n",
              "\n",
              "    [theme=dark] .colab-df-convert {\n",
              "      background-color: #3B4455;\n",
              "      fill: #D2E3FC;\n",
              "    }\n",
              "\n",
              "    [theme=dark] .colab-df-convert:hover {\n",
              "      background-color: #434B5C;\n",
              "      box-shadow: 0px 1px 3px 1px rgba(0, 0, 0, 0.15);\n",
              "      filter: drop-shadow(0px 1px 2px rgba(0, 0, 0, 0.3));\n",
              "      fill: #FFFFFF;\n",
              "    }\n",
              "  </style>\n",
              "\n",
              "      <script>\n",
              "        const buttonEl =\n",
              "          document.querySelector('#df-b780addf-79d8-4cb9-b08c-b1348249d8d3 button.colab-df-convert');\n",
              "        buttonEl.style.display =\n",
              "          google.colab.kernel.accessAllowed ? 'block' : 'none';\n",
              "\n",
              "        async function convertToInteractive(key) {\n",
              "          const element = document.querySelector('#df-b780addf-79d8-4cb9-b08c-b1348249d8d3');\n",
              "          const dataTable =\n",
              "            await google.colab.kernel.invokeFunction('convertToInteractive',\n",
              "                                                     [key], {});\n",
              "          if (!dataTable) return;\n",
              "\n",
              "          const docLinkHtml = 'Like what you see? Visit the ' +\n",
              "            '<a target=\"_blank\" href=https://colab.research.google.com/notebooks/data_table.ipynb>data table notebook</a>'\n",
              "            + ' to learn more about interactive tables.';\n",
              "          element.innerHTML = '';\n",
              "          dataTable['output_type'] = 'display_data';\n",
              "          await google.colab.output.renderOutput(dataTable, element);\n",
              "          const docLink = document.createElement('div');\n",
              "          docLink.innerHTML = docLinkHtml;\n",
              "          element.appendChild(docLink);\n",
              "        }\n",
              "      </script>\n",
              "    </div>\n",
              "  </div>\n",
              "  "
            ]
          },
          "metadata": {},
          "execution_count": 33
        }
      ],
      "source": [
        "plotNumerical(df, 'balance')"
      ],
      "id": "w2woncsARQsi"
    },
    {
      "cell_type": "markdown",
      "metadata": {
        "id": "-VoAxRX4OrxK"
      },
      "source": [
        "> The highest contribution is at the average annual balance of 0. There are 292 customers who are deposit customers at balance = 0."
      ],
      "id": "-VoAxRX4OrxK"
    },
    {
      "cell_type": "markdown",
      "metadata": {
        "id": "P3QMMchsRnSd"
      },
      "source": [
        "## CATEGORICAL FEATURES"
      ],
      "id": "P3QMMchsRnSd"
    },
    {
      "cell_type": "code",
      "execution_count": 34,
      "metadata": {
        "id": "ltJEewn2OAg_"
      },
      "outputs": [],
      "source": [
        "def subsribe_rate_cat_plot(column, annot=True):\n",
        "    unique = df[column].unique()\n",
        "    nilai_plot= {}\n",
        "    \n",
        "    plt.figure(figsize=(15,5))\n",
        "    ax = sns.countplot(x = column, data = df, hue = 'y')\n",
        "        \n",
        "    plt.tight_layout()\n",
        "    plt.show()\n",
        "    \n",
        "    new = pd.crosstab(df[column], df['y'])\n",
        "    new['ratio']=(new['yes']/new['no'])*100\n",
        "    return new.sort_values(by=['ratio'], ascending=False)"
      ],
      "id": "ltJEewn2OAg_"
    },
    {
      "cell_type": "code",
      "execution_count": 35,
      "metadata": {
        "colab": {
          "base_uri": "https://localhost:8080/",
          "height": 558
        },
        "id": "I--CbkxDOCIN",
        "outputId": "02f28689-05ef-40e2-f034-3f29c94802ec"
      },
      "outputs": [
        {
          "output_type": "display_data",
          "data": {
            "text/plain": [
              "<Figure size 1080x360 with 1 Axes>"
            ],
            "image/png": "[encoded data removed]"
          },
          "metadata": {
            "needs_background": "light"
          }
        },
        {
          "output_type": "execute_result",
          "data": {
            "text/plain": [
              "y             no   yes      ratio\n",
              "education                        \n",
              "tertiary   11305  1996  17.655904\n",
              "unknown     1605   252  15.700935\n",
              "secondary  20752  2450  11.806091\n",
              "primary     6260   591   9.440895"
            ],
            "text/html": [
              "\n",
              "  <div id=\"df-8147782a-fb4e-49b9-8528-1dd9980533ef\">\n",
              "    <div class=\"colab-df-container\">\n",
              "      <div>\n",
              "<style scoped>\n",
              "    .dataframe tbody tr th:only-of-type {\n",
              "        vertical-align: middle;\n",
              "    }\n",
              "\n",
              "    .dataframe tbody tr th {\n",
              "        vertical-align: top;\n",
              "    }\n",
              "\n",
              "    .dataframe thead th {\n",
              "        text-align: right;\n",
              "    }\n",
              "</style>\n",
              "<table border=\"1\" class=\"dataframe\">\n",
              "  <thead>\n",
              "    <tr style=\"text-align: right;\">\n",
              "      <th>y</th>\n",
              "      <th>no</th>\n",
              "      <th>yes</th>\n",
              "      <th>ratio</th>\n",
              "    </tr>\n",
              "    <tr>\n",
              "      <th>education</th>\n",
              "      <th></th>\n",
              "      <th></th>\n",
              "      <th></th>\n",
              "    </tr>\n",
              "  </thead>\n",
              "  <tbody>\n",
              "    <tr>\n",
              "      <th>tertiary</th>\n",
              "      <td>11305</td>\n",
              "      <td>1996</td>\n",
              "      <td>17.655904</td>\n",
              "    </tr>\n",
              "    <tr>\n",
              "      <th>unknown</th>\n",
              "      <td>1605</td>\n",
              "      <td>252</td>\n",
              "      <td>15.700935</td>\n",
              "    </tr>\n",
              "    <tr>\n",
              "      <th>secondary</th>\n",
              "      <td>20752</td>\n",
              "      <td>2450</td>\n",
              "      <td>11.806091</td>\n",
              "    </tr>\n",
              "    <tr>\n",
              "      <th>primary</th>\n",
              "      <td>6260</td>\n",
              "      <td>591</td>\n",
              "      <td>9.440895</td>\n",
              "    </tr>\n",
              "  </tbody>\n",
              "</table>\n",
              "</div>\n",
              "      <button class=\"colab-df-convert\" onclick=\"convertToInteractive('df-8147782a-fb4e-49b9-8528-1dd9980533ef')\"\n",
              "              title=\"Convert this dataframe to an interactive table.\"\n",
              "              style=\"display:none;\">\n",
              "        \n",
              "  <svg xmlns=\"http://www.w3.org/2000/svg\" height=\"24px\"viewBox=\"0 0 24 24\"\n",
              "       width=\"24px\">\n",
              "    <path d=\"M0 0h24v24H0V0z\" fill=\"none\"/>\n",
              "    <path d=\"M18.56 5.44l.94 2.06.94-2.06 2.06-.94-2.06-.94-.94-2.06-.94 2.06-2.06.94zm-11 1L8.5 8.5l.94-2.06 2.06-.94-2.06-.94L8.5 2.5l-.94 2.06-2.06.94zm10 10l.94 2.06.94-2.06 2.06-.94-2.06-.94-.94-2.06-.94 2.06-2.06.94z\"/><path d=\"M17.41 7.96l-1.37-1.37c-.4-.4-.92-.59-1.43-.59-.52 0-1.04.2-1.43.59L10.3 9.45l-7.72 7.72c-.78.78-.78 2.05 0 2.83L4 21.41c.39.39.9.59 1.41.59.51 0 1.02-.2 1.41-.59l7.78-7.78 2.81-2.81c.8-.78.8-2.07 0-2.86zM5.41 20L4 18.59l7.72-7.72 1.47 1.35L5.41 20z\"/>\n",
              "  </svg>\n",
              "      </button>\n",
              "      \n",
              "  <style>\n",
              "    .colab-df-container {\n",
              "      display:flex;\n",
              "      flex-wrap:wrap;\n",
              "      gap: 12px;\n",
              "    }\n",
              "\n",
              "    .colab-df-convert {\n",
              "      background-color: #E8F0FE;\n",
              "      border: none;\n",
              "      border-radius: 50%;\n",
              "      cursor: pointer;\n",
              "      display: none;\n",
              "      fill: #1967D2;\n",
              "      height: 32px;\n",
              "      padding: 0 0 0 0;\n",
              "      width: 32px;\n",
              "    }\n",
              "\n",
              "    .colab-df-convert:hover {\n",
              "      background-color: #E2EBFA;\n",
              "      box-shadow: 0px 1px 2px rgba(60, 64, 67, 0.3), 0px 1px 3px 1px rgba(60, 64, 67, 0.15);\n",
              "      fill: #174EA6;\n",
              "    }\n",
              "\n",
              "    [theme=dark] .colab-df-convert {\n",
              "      background-color: #3B4455;\n",
              "      fill: #D2E3FC;\n",
              "    }\n",
              "\n",
              "    [theme=dark] .colab-df-convert:hover {\n",
              "      background-color: #434B5C;\n",
              "      box-shadow: 0px 1px 3px 1px rgba(0, 0, 0, 0.15);\n",
              "      filter: drop-shadow(0px 1px 2px rgba(0, 0, 0, 0.3));\n",
              "      fill: #FFFFFF;\n",
              "    }\n",
              "  </style>\n",
              "\n",
              "      <script>\n",
              "        const buttonEl =\n",
              "          document.querySelector('#df-8147782a-fb4e-49b9-8528-1dd9980533ef button.colab-df-convert');\n",
              "        buttonEl.style.display =\n",
              "          google.colab.kernel.accessAllowed ? 'block' : 'none';\n",
              "\n",
              "        async function convertToInteractive(key) {\n",
              "          const element = document.querySelector('#df-8147782a-fb4e-49b9-8528-1dd9980533ef');\n",
              "          const dataTable =\n",
              "            await google.colab.kernel.invokeFunction('convertToInteractive',\n",
              "                                                     [key], {});\n",
              "          if (!dataTable) return;\n",
              "\n",
              "          const docLinkHtml = 'Like what you see? Visit the ' +\n",
              "            '<a target=\"_blank\" href=https://colab.research.google.com/notebooks/data_table.ipynb>data table notebook</a>'\n",
              "            + ' to learn more about interactive tables.';\n",
              "          element.innerHTML = '';\n",
              "          dataTable['output_type'] = 'display_data';\n",
              "          await google.colab.output.renderOutput(dataTable, element);\n",
              "          const docLink = document.createElement('div');\n",
              "          docLink.innerHTML = docLinkHtml;\n",
              "          element.appendChild(docLink);\n",
              "        }\n",
              "      </script>\n",
              "    </div>\n",
              "  </div>\n",
              "  "
            ]
          },
          "metadata": {},
          "execution_count": 35
        }
      ],
      "source": [
        "subsribe_rate_cat_plot('education')"
      ],
      "id": "I--CbkxDOCIN"
    },
    {
      "cell_type": "markdown",
      "metadata": {
        "id": "68TWtIhTKn0n"
      },
      "source": [
        "> The clients who subscribe the most are clients with secondary education qualifications as much as 2450 and a percentage rate of 11.80% and clients who subscribe the least, namely clients with primary education qualifications as many as 591 and a percentage rate of 9.44%, so it can be assumed that the higher the education, the greater the tendency of a person to subscribe."
      ],
      "id": "68TWtIhTKn0n"
    },
    {
      "cell_type": "code",
      "execution_count": 36,
      "metadata": {
        "colab": {
          "base_uri": "https://localhost:8080/",
          "height": 809
        },
        "id": "g9wUg3VYOKz1",
        "outputId": "afe62a99-b338-45d7-f7b3-4aaed4158126"
      },
      "outputs": [
        {
          "output_type": "display_data",
          "data": {
            "text/plain": [
              "<Figure size 1080x360 with 1 Axes>"
            ],
            "image/png": "[encoded data removed]"
          },
          "metadata": {
            "needs_background": "light"
          }
        },
        {
          "output_type": "execute_result",
          "data": {
            "text/plain": [
              "y                no   yes      ratio\n",
              "job                                 \n",
              "student         669   269  40.209268\n",
              "retired        1748   516  29.519451\n",
              "unemployed     1101   202  18.346957\n",
              "management     8157  1301  15.949491\n",
              "admin.         4540   631  13.898678\n",
              "self-employed  1392   187  13.433908\n",
              "unknown         254    34  13.385827\n",
              "technician     6757   840  12.431552\n",
              "services       3785   369   9.749009\n",
              "housemaid      1131   109   9.637489\n",
              "entrepreneur   1364   123   9.017595\n",
              "blue-collar    9024   708   7.845745"
            ],
            "text/html": [
              "\n",
              "  <div id=\"df-25403dc9-a725-422d-96ba-63230b7895b4\">\n",
              "    <div class=\"colab-df-container\">\n",
              "      <div>\n",
              "<style scoped>\n",
              "    .dataframe tbody tr th:only-of-type {\n",
              "        vertical-align: middle;\n",
              "    }\n",
              "\n",
              "    .dataframe tbody tr th {\n",
              "        vertical-align: top;\n",
              "    }\n",
              "\n",
              "    .dataframe thead th {\n",
              "        text-align: right;\n",
              "    }\n",
              "</style>\n",
              "<table border=\"1\" class=\"dataframe\">\n",
              "  <thead>\n",
              "    <tr style=\"text-align: right;\">\n",
              "      <th>y</th>\n",
              "      <th>no</th>\n",
              "      <th>yes</th>\n",
              "      <th>ratio</th>\n",
              "    </tr>\n",
              "    <tr>\n",
              "      <th>job</th>\n",
              "      <th></th>\n",
              "      <th></th>\n",
              "      <th></th>\n",
              "    </tr>\n",
              "  </thead>\n",
              "  <tbody>\n",
              "    <tr>\n",
              "      <th>student</th>\n",
              "      <td>669</td>\n",
              "      <td>269</td>\n",
              "      <td>40.209268</td>\n",
              "    </tr>\n",
              "    <tr>\n",
              "      <th>retired</th>\n",
              "      <td>1748</td>\n",
              "      <td>516</td>\n",
              "      <td>29.519451</td>\n",
              "    </tr>\n",
              "    <tr>\n",
              "      <th>unemployed</th>\n",
              "      <td>1101</td>\n",
              "      <td>202</td>\n",
              "      <td>18.346957</td>\n",
              "    </tr>\n",
              "    <tr>\n",
              "      <th>management</th>\n",
              "      <td>8157</td>\n",
              "      <td>1301</td>\n",
              "      <td>15.949491</td>\n",
              "    </tr>\n",
              "    <tr>\n",
              "      <th>admin.</th>\n",
              "      <td>4540</td>\n",
              "      <td>631</td>\n",
              "      <td>13.898678</td>\n",
              "    </tr>\n",
              "    <tr>\n",
              "      <th>self-employed</th>\n",
              "      <td>1392</td>\n",
              "      <td>187</td>\n",
              "      <td>13.433908</td>\n",
              "    </tr>\n",
              "    <tr>\n",
              "      <th>unknown</th>\n",
              "      <td>254</td>\n",
              "      <td>34</td>\n",
              "      <td>13.385827</td>\n",
              "    </tr>\n",
              "    <tr>\n",
              "      <th>technician</th>\n",
              "      <td>6757</td>\n",
              "      <td>840</td>\n",
              "      <td>12.431552</td>\n",
              "    </tr>\n",
              "    <tr>\n",
              "      <th>services</th>\n",
              "      <td>3785</td>\n",
              "      <td>369</td>\n",
              "      <td>9.749009</td>\n",
              "    </tr>\n",
              "    <tr>\n",
              "      <th>housemaid</th>\n",
              "      <td>1131</td>\n",
              "      <td>109</td>\n",
              "      <td>9.637489</td>\n",
              "    </tr>\n",
              "    <tr>\n",
              "      <th>entrepreneur</th>\n",
              "      <td>1364</td>\n",
              "      <td>123</td>\n",
              "      <td>9.017595</td>\n",
              "    </tr>\n",
              "    <tr>\n",
              "      <th>blue-collar</th>\n",
              "      <td>9024</td>\n",
              "      <td>708</td>\n",
              "      <td>7.845745</td>\n",
              "    </tr>\n",
              "  </tbody>\n",
              "</table>\n",
              "</div>\n",
              "      <button class=\"colab-df-convert\" onclick=\"convertToInteractive('df-25403dc9-a725-422d-96ba-63230b7895b4')\"\n",
              "              title=\"Convert this dataframe to an interactive table.\"\n",
              "              style=\"display:none;\">\n",
              "        \n",
              "  <svg xmlns=\"http://www.w3.org/2000/svg\" height=\"24px\"viewBox=\"0 0 24 24\"\n",
              "       width=\"24px\">\n",
              "    <path d=\"M0 0h24v24H0V0z\" fill=\"none\"/>\n",
              "    <path d=\"M18.56 5.44l.94 2.06.94-2.06 2.06-.94-2.06-.94-.94-2.06-.94 2.06-2.06.94zm-11 1L8.5 8.5l.94-2.06 2.06-.94-2.06-.94L8.5 2.5l-.94 2.06-2.06.94zm10 10l.94 2.06.94-2.06 2.06-.94-2.06-.94-.94-2.06-.94 2.06-2.06.94z\"/><path d=\"M17.41 7.96l-1.37-1.37c-.4-.4-.92-.59-1.43-.59-.52 0-1.04.2-1.43.59L10.3 9.45l-7.72 7.72c-.78.78-.78 2.05 0 2.83L4 21.41c.39.39.9.59 1.41.59.51 0 1.02-.2 1.41-.59l7.78-7.78 2.81-2.81c.8-.78.8-2.07 0-2.86zM5.41 20L4 18.59l7.72-7.72 1.47 1.35L5.41 20z\"/>\n",
              "  </svg>\n",
              "      </button>\n",
              "      \n",
              "  <style>\n",
              "    .colab-df-container {\n",
              "      display:flex;\n",
              "      flex-wrap:wrap;\n",
              "      gap: 12px;\n",
              "    }\n",
              "\n",
              "    .colab-df-convert {\n",
              "      background-color: #E8F0FE;\n",
              "      border: none;\n",
              "      border-radius: 50%;\n",
              "      cursor: pointer;\n",
              "      display: none;\n",
              "      fill: #1967D2;\n",
              "      height: 32px;\n",
              "      padding: 0 0 0 0;\n",
              "      width: 32px;\n",
              "    }\n",
              "\n",
              "    .colab-df-convert:hover {\n",
              "      background-color: #E2EBFA;\n",
              "      box-shadow: 0px 1px 2px rgba(60, 64, 67, 0.3), 0px 1px 3px 1px rgba(60, 64, 67, 0.15);\n",
              "      fill: #174EA6;\n",
              "    }\n",
              "\n",
              "    [theme=dark] .colab-df-convert {\n",
              "      background-color: #3B4455;\n",
              "      fill: #D2E3FC;\n",
              "    }\n",
              "\n",
              "    [theme=dark] .colab-df-convert:hover {\n",
              "      background-color: #434B5C;\n",
              "      box-shadow: 0px 1px 3px 1px rgba(0, 0, 0, 0.15);\n",
              "      filter: drop-shadow(0px 1px 2px rgba(0, 0, 0, 0.3));\n",
              "      fill: #FFFFFF;\n",
              "    }\n",
              "  </style>\n",
              "\n",
              "      <script>\n",
              "        const buttonEl =\n",
              "          document.querySelector('#df-25403dc9-a725-422d-96ba-63230b7895b4 button.colab-df-convert');\n",
              "        buttonEl.style.display =\n",
              "          google.colab.kernel.accessAllowed ? 'block' : 'none';\n",
              "\n",
              "        async function convertToInteractive(key) {\n",
              "          const element = document.querySelector('#df-25403dc9-a725-422d-96ba-63230b7895b4');\n",
              "          const dataTable =\n",
              "            await google.colab.kernel.invokeFunction('convertToInteractive',\n",
              "                                                     [key], {});\n",
              "          if (!dataTable) return;\n",
              "\n",
              "          const docLinkHtml = 'Like what you see? Visit the ' +\n",
              "            '<a target=\"_blank\" href=https://colab.research.google.com/notebooks/data_table.ipynb>data table notebook</a>'\n",
              "            + ' to learn more about interactive tables.';\n",
              "          element.innerHTML = '';\n",
              "          dataTable['output_type'] = 'display_data';\n",
              "          await google.colab.output.renderOutput(dataTable, element);\n",
              "          const docLink = document.createElement('div');\n",
              "          docLink.innerHTML = docLinkHtml;\n",
              "          element.appendChild(docLink);\n",
              "        }\n",
              "      </script>\n",
              "    </div>\n",
              "  </div>\n",
              "  "
            ]
          },
          "metadata": {},
          "execution_count": 36
        }
      ],
      "source": [
        "subsribe_rate_cat_plot('job')"
      ],
      "id": "g9wUg3VYOKz1"
    },
    {
      "cell_type": "markdown",
      "metadata": {
        "id": "Mk_vGj72KK-_"
      },
      "source": [
        "> The clients who subscribe the most are clients who work as management as many as 1301 and a percentage rate of 15.94% and the clients who subscribe the least are clients who work as house maids as many as 109 and a percentage rate of 9.63%. So it can be assumed that the higher the level of a person's job, it can affect someone to subscribe."
      ],
      "id": "Mk_vGj72KK-_"
    },
    {
      "cell_type": "code",
      "execution_count": 37,
      "metadata": {
        "colab": {
          "base_uri": "https://localhost:8080/",
          "height": 558
        },
        "id": "Xr1d9xlEPVyh",
        "outputId": "5b849523-a50e-4176-9abf-0a74b2d41f60"
      },
      "outputs": [
        {
          "output_type": "display_data",
          "data": {
            "text/plain": [
              "<Figure size 1080x360 with 1 Axes>"
            ],
            "image/png": "[encoded data removed]"
          },
          "metadata": {
            "needs_background": "light"
          }
        },
        {
          "output_type": "execute_result",
          "data": {
            "text/plain": [
              "y            no   yes       ratio\n",
              "poutcome                         \n",
              "success     533   978  183.489681\n",
              "other      1533   307   20.026093\n",
              "failure    4283   618   14.429138\n",
              "unknown   33573  3386   10.085485"
            ],
            "text/html": [
              "\n",
              "  <div id=\"df-6e1dee1c-9fc2-40db-a287-c7adb5d4418c\">\n",
              "    <div class=\"colab-df-container\">\n",
              "      <div>\n",
              "<style scoped>\n",
              "    .dataframe tbody tr th:only-of-type {\n",
              "        vertical-align: middle;\n",
              "    }\n",
              "\n",
              "    .dataframe tbody tr th {\n",
              "        vertical-align: top;\n",
              "    }\n",
              "\n",
              "    .dataframe thead th {\n",
              "        text-align: right;\n",
              "    }\n",
              "</style>\n",
              "<table border=\"1\" class=\"dataframe\">\n",
              "  <thead>\n",
              "    <tr style=\"text-align: right;\">\n",
              "      <th>y</th>\n",
              "      <th>no</th>\n",
              "      <th>yes</th>\n",
              "      <th>ratio</th>\n",
              "    </tr>\n",
              "    <tr>\n",
              "      <th>poutcome</th>\n",
              "      <th></th>\n",
              "      <th></th>\n",
              "      <th></th>\n",
              "    </tr>\n",
              "  </thead>\n",
              "  <tbody>\n",
              "    <tr>\n",
              "      <th>success</th>\n",
              "      <td>533</td>\n",
              "      <td>978</td>\n",
              "      <td>183.489681</td>\n",
              "    </tr>\n",
              "    <tr>\n",
              "      <th>other</th>\n",
              "      <td>1533</td>\n",
              "      <td>307</td>\n",
              "      <td>20.026093</td>\n",
              "    </tr>\n",
              "    <tr>\n",
              "      <th>failure</th>\n",
              "      <td>4283</td>\n",
              "      <td>618</td>\n",
              "      <td>14.429138</td>\n",
              "    </tr>\n",
              "    <tr>\n",
              "      <th>unknown</th>\n",
              "      <td>33573</td>\n",
              "      <td>3386</td>\n",
              "      <td>10.085485</td>\n",
              "    </tr>\n",
              "  </tbody>\n",
              "</table>\n",
              "</div>\n",
              "      <button class=\"colab-df-convert\" onclick=\"convertToInteractive('df-6e1dee1c-9fc2-40db-a287-c7adb5d4418c')\"\n",
              "              title=\"Convert this dataframe to an interactive table.\"\n",
              "              style=\"display:none;\">\n",
              "        \n",
              "  <svg xmlns=\"http://www.w3.org/2000/svg\" height=\"24px\"viewBox=\"0 0 24 24\"\n",
              "       width=\"24px\">\n",
              "    <path d=\"M0 0h24v24H0V0z\" fill=\"none\"/>\n",
              "    <path d=\"M18.56 5.44l.94 2.06.94-2.06 2.06-.94-2.06-.94-.94-2.06-.94 2.06-2.06.94zm-11 1L8.5 8.5l.94-2.06 2.06-.94-2.06-.94L8.5 2.5l-.94 2.06-2.06.94zm10 10l.94 2.06.94-2.06 2.06-.94-2.06-.94-.94-2.06-.94 2.06-2.06.94z\"/><path d=\"M17.41 7.96l-1.37-1.37c-.4-.4-.92-.59-1.43-.59-.52 0-1.04.2-1.43.59L10.3 9.45l-7.72 7.72c-.78.78-.78 2.05 0 2.83L4 21.41c.39.39.9.59 1.41.59.51 0 1.02-.2 1.41-.59l7.78-7.78 2.81-2.81c.8-.78.8-2.07 0-2.86zM5.41 20L4 18.59l7.72-7.72 1.47 1.35L5.41 20z\"/>\n",
              "  </svg>\n",
              "      </button>\n",
              "      \n",
              "  <style>\n",
              "    .colab-df-container {\n",
              "      display:flex;\n",
              "      flex-wrap:wrap;\n",
              "      gap: 12px;\n",
              "    }\n",
              "\n",
              "    .colab-df-convert {\n",
              "      background-color: #E8F0FE;\n",
              "      border: none;\n",
              "      border-radius: 50%;\n",
              "      cursor: pointer;\n",
              "      display: none;\n",
              "      fill: #1967D2;\n",
              "      height: 32px;\n",
              "      padding: 0 0 0 0;\n",
              "      width: 32px;\n",
              "    }\n",
              "\n",
              "    .colab-df-convert:hover {\n",
              "      background-color: #E2EBFA;\n",
              "      box-shadow: 0px 1px 2px rgba(60, 64, 67, 0.3), 0px 1px 3px 1px rgba(60, 64, 67, 0.15);\n",
              "      fill: #174EA6;\n",
              "    }\n",
              "\n",
              "    [theme=dark] .colab-df-convert {\n",
              "      background-color: #3B4455;\n",
              "      fill: #D2E3FC;\n",
              "    }\n",
              "\n",
              "    [theme=dark] .colab-df-convert:hover {\n",
              "      background-color: #434B5C;\n",
              "      box-shadow: 0px 1px 3px 1px rgba(0, 0, 0, 0.15);\n",
              "      filter: drop-shadow(0px 1px 2px rgba(0, 0, 0, 0.3));\n",
              "      fill: #FFFFFF;\n",
              "    }\n",
              "  </style>\n",
              "\n",
              "      <script>\n",
              "        const buttonEl =\n",
              "          document.querySelector('#df-6e1dee1c-9fc2-40db-a287-c7adb5d4418c button.colab-df-convert');\n",
              "        buttonEl.style.display =\n",
              "          google.colab.kernel.accessAllowed ? 'block' : 'none';\n",
              "\n",
              "        async function convertToInteractive(key) {\n",
              "          const element = document.querySelector('#df-6e1dee1c-9fc2-40db-a287-c7adb5d4418c');\n",
              "          const dataTable =\n",
              "            await google.colab.kernel.invokeFunction('convertToInteractive',\n",
              "                                                     [key], {});\n",
              "          if (!dataTable) return;\n",
              "\n",
              "          const docLinkHtml = 'Like what you see? Visit the ' +\n",
              "            '<a target=\"_blank\" href=https://colab.research.google.com/notebooks/data_table.ipynb>data table notebook</a>'\n",
              "            + ' to learn more about interactive tables.';\n",
              "          element.innerHTML = '';\n",
              "          dataTable['output_type'] = 'display_data';\n",
              "          await google.colab.output.renderOutput(dataTable, element);\n",
              "          const docLink = document.createElement('div');\n",
              "          docLink.innerHTML = docLinkHtml;\n",
              "          element.appendChild(docLink);\n",
              "        }\n",
              "      </script>\n",
              "    </div>\n",
              "  </div>\n",
              "  "
            ]
          },
          "metadata": {},
          "execution_count": 37
        }
      ],
      "source": [
        "subsribe_rate_cat_plot('poutcome')"
      ],
      "id": "Xr1d9xlEPVyh"
    },
    {
      "cell_type": "markdown",
      "metadata": {
        "id": "PmYHNS4HKYI6"
      },
      "source": [
        "> The clients who subscribe the most where marketing campaign were successful as many as 978 clients, so it can be assumed that when the previous marketing campaign was successful, the more likely it is that someone to subscribe."
      ],
      "id": "PmYHNS4HKYI6"
    },
    {
      "cell_type": "markdown",
      "metadata": {
        "id": "09f55ad5-6555-4e1b-8afb-009485c5e7b0"
      },
      "source": [
        "# FEATURE ENGINEERING"
      ],
      "id": "09f55ad5-6555-4e1b-8afb-009485c5e7b0"
    },
    {
      "cell_type": "markdown",
      "metadata": {
        "id": "06bb8744-7aac-4d02-a830-a0ba0ebb5c61"
      },
      "source": [
        "## FEATURE ENCODING"
      ],
      "id": "06bb8744-7aac-4d02-a830-a0ba0ebb5c61"
    },
    {
      "cell_type": "markdown",
      "metadata": {
        "id": "444e306f-d21a-4d25-870d-b2fd53fa99e9"
      },
      "source": [
        "### ONE HOT ENCODING"
      ],
      "id": "444e306f-d21a-4d25-870d-b2fd53fa99e9"
    },
    {
      "cell_type": "code",
      "execution_count": 38,
      "metadata": {
        "id": "12eb1337-4d20-45a5-8786-b46e191681b4"
      },
      "outputs": [],
      "source": [
        "df_cat = pd.get_dummies(df_cat, prefix='job', columns=['job'])\n",
        "df_cat = pd.get_dummies(df_cat, prefix='marital', columns=['marital'])\n",
        "df_cat = pd.get_dummies(df_cat, prefix='default', columns=['default'], drop_first=True)\n",
        "df_cat = pd.get_dummies(df_cat, prefix='housing', columns=['housing'], drop_first=True)\n",
        "df_cat = pd.get_dummies(df_cat, prefix='loan', columns=['loan'], drop_first=True)\n",
        "df_cat = pd.get_dummies(df_cat, prefix='poutcome', columns=['poutcome'])"
      ],
      "id": "12eb1337-4d20-45a5-8786-b46e191681b4"
    },
    {
      "cell_type": "code",
      "execution_count": 39,
      "metadata": {
        "colab": {
          "base_uri": "https://localhost:8080/"
        },
        "id": "3ec0cd4a-6a22-4cf6-bb8f-f1a860a994b6",
        "outputId": "21505f01-f13c-4877-d854-1c5c7fda1daf"
      },
      "outputs": [
        {
          "output_type": "execute_result",
          "data": {
            "text/plain": [
              "Index(['education', 'y', 'job_admin.', 'job_blue-collar', 'job_entrepreneur',\n",
              "       'job_housemaid', 'job_management', 'job_retired', 'job_self-employed',\n",
              "       'job_services', 'job_student', 'job_technician', 'job_unemployed',\n",
              "       'job_unknown', 'marital_divorced', 'marital_married', 'marital_single',\n",
              "       'default_yes', 'housing_yes', 'loan_yes', 'poutcome_failure',\n",
              "       'poutcome_other', 'poutcome_success', 'poutcome_unknown'],\n",
              "      dtype='object')"
            ]
          },
          "metadata": {},
          "execution_count": 39
        }
      ],
      "source": [
        "df_cat.columns"
      ],
      "id": "3ec0cd4a-6a22-4cf6-bb8f-f1a860a994b6"
    },
    {
      "cell_type": "markdown",
      "metadata": {
        "id": "04fa8048-7816-4b66-9aaa-ccd5d41edb5f"
      },
      "source": [
        "### ORDINAL ENCODING"
      ],
      "id": "04fa8048-7816-4b66-9aaa-ccd5d41edb5f"
    },
    {
      "cell_type": "code",
      "execution_count": 40,
      "metadata": {
        "id": "ec36de47-7179-4cd6-8fb5-c2a2df1c7164"
      },
      "outputs": [],
      "source": [
        "education_order = ['unknown', 'primary', 'secondary', 'tertiary']\n",
        "df_cat['education_enc'] = OrdinalEncoder(categories=[education_order]).fit_transform(df_cat[['education']])\n",
        "df_cat = df_cat.drop(columns=['education'])"
      ],
      "id": "ec36de47-7179-4cd6-8fb5-c2a2df1c7164"
    },
    {
      "cell_type": "markdown",
      "metadata": {
        "id": "4ca48666-606f-4fe9-ae39-7a04bead3066"
      },
      "source": [
        "### TARGET ENCODING"
      ],
      "id": "4ca48666-606f-4fe9-ae39-7a04bead3066"
    },
    {
      "cell_type": "code",
      "execution_count": 41,
      "metadata": {
        "id": "659f7a87-1fd6-42db-92ee-08a7e2ff3ac8"
      },
      "outputs": [],
      "source": [
        "df_cat['y'] = LabelEncoder().fit_transform(df_cat[['y']])"
      ],
      "id": "659f7a87-1fd6-42db-92ee-08a7e2ff3ac8"
    },
    {
      "cell_type": "markdown",
      "metadata": {
        "id": "e3ceabf5-3d48-49ba-b5b6-a94ac7f0f04b"
      },
      "source": [
        "## FEATURE SCALLING"
      ],
      "id": "e3ceabf5-3d48-49ba-b5b6-a94ac7f0f04b"
    },
    {
      "cell_type": "code",
      "execution_count": 42,
      "metadata": {
        "colab": {
          "base_uri": "https://localhost:8080/"
        },
        "id": "cef1a95d-7a74-4972-9639-fbc913e7a8e0",
        "outputId": "3fd93af3-dd0c-4dfc-d103-b1f07331b4e9"
      },
      "outputs": [
        {
          "output_type": "execute_result",
          "data": {
            "text/plain": [
              "Index(['age', 'balance', 'duration', 'campaign', 'age_win', 'balance_win',\n",
              "       'duration_win', 'campaign_win'],\n",
              "      dtype='object')"
            ]
          },
          "metadata": {},
          "execution_count": 42
        }
      ],
      "source": [
        "df_num.columns"
      ],
      "id": "cef1a95d-7a74-4972-9639-fbc913e7a8e0"
    },
    {
      "cell_type": "code",
      "execution_count": 43,
      "metadata": {
        "id": "8978ae9c-ac68-4416-bb09-47f227b3deb8"
      },
      "outputs": [],
      "source": [
        "df_num = df_num.drop(columns=['age','balance','duration','campaign'])"
      ],
      "id": "8978ae9c-ac68-4416-bb09-47f227b3deb8"
    },
    {
      "cell_type": "code",
      "execution_count": 44,
      "metadata": {
        "colab": {
          "base_uri": "https://localhost:8080/"
        },
        "id": "9986a429-ffbe-4fd1-8651-fc2d590a6dcc",
        "outputId": "8d8bf0b7-680c-452a-ace0-2f8a500f9b7d"
      },
      "outputs": [
        {
          "output_type": "stream",
          "name": "stdout",
          "text": [
            "MinMaxScaler()\n"
          ]
        }
      ],
      "source": [
        "scaler = MinMaxScaler()\n",
        "print(scaler)"
      ],
      "id": "9986a429-ffbe-4fd1-8651-fc2d590a6dcc"
    },
    {
      "cell_type": "code",
      "execution_count": 45,
      "metadata": {
        "id": "f225a2aa-4b74-4055-9d0a-a7a99c38d928"
      },
      "outputs": [],
      "source": [
        "for i in df_num:\n",
        "    df_num[f'{i}_minmax'] = scaler.fit_transform(df_num[[i]])"
      ],
      "id": "f225a2aa-4b74-4055-9d0a-a7a99c38d928"
    },
    {
      "cell_type": "code",
      "execution_count": 46,
      "metadata": {
        "colab": {
          "base_uri": "https://localhost:8080/"
        },
        "id": "877f919a-19df-4dd9-a31c-c38296e846da",
        "outputId": "d4a27043-3f54-4b33-b663-f617cb6edf25"
      },
      "outputs": [
        {
          "output_type": "execute_result",
          "data": {
            "text/plain": [
              "Index(['age_win', 'balance_win', 'duration_win', 'campaign_win',\n",
              "       'age_win_minmax', 'balance_win_minmax', 'duration_win_minmax',\n",
              "       'campaign_win_minmax'],\n",
              "      dtype='object')"
            ]
          },
          "metadata": {},
          "execution_count": 46
        }
      ],
      "source": [
        "df_num.columns"
      ],
      "id": "877f919a-19df-4dd9-a31c-c38296e846da"
    },
    {
      "cell_type": "code",
      "execution_count": 47,
      "metadata": {
        "id": "f6037398-4bc9-4ef7-9f13-99a4239a54cc"
      },
      "outputs": [],
      "source": [
        "df_num = df_num.drop(columns=['age_win', 'balance_win', 'duration_win', 'campaign_win'])"
      ],
      "id": "f6037398-4bc9-4ef7-9f13-99a4239a54cc"
    },
    {
      "cell_type": "markdown",
      "metadata": {
        "id": "a3447b71-c390-4023-b59f-7852b90d3955"
      },
      "source": [
        "## FEATURE SELECTION"
      ],
      "id": "a3447b71-c390-4023-b59f-7852b90d3955"
    },
    {
      "cell_type": "code",
      "execution_count": 48,
      "metadata": {
        "id": "33dfc533-70ed-46a7-91ff-abb4e65ba85f"
      },
      "outputs": [],
      "source": [
        "df_ft = pd.concat([df_num, df_cat], axis=1).reset_index(drop=True)"
      ],
      "id": "33dfc533-70ed-46a7-91ff-abb4e65ba85f"
    },
    {
      "cell_type": "code",
      "execution_count": 49,
      "metadata": {
        "colab": {
          "base_uri": "https://localhost:8080/",
          "height": 317
        },
        "id": "6832f2a9-81c3-4f87-81be-0fefe18559e6",
        "outputId": "a4b84ed0-bea4-4a81-9682-9309f7a8d989"
      },
      "outputs": [
        {
          "output_type": "execute_result",
          "data": {
            "text/plain": [
              "   age_win_minmax  balance_win_minmax  duration_win_minmax  \\\n",
              "0        0.888889            0.896120             0.426471   \n",
              "1        0.577778            0.709700             0.246732   \n",
              "2        0.333333            0.707319             0.124183   \n",
              "3        0.644444            0.839947             0.150327   \n",
              "4        0.333333            0.707231             0.323529   \n",
              "\n",
              "   campaign_win_minmax  y  job_admin.  job_blue-collar  job_entrepreneur  \\\n",
              "0                  0.0  0           0                0                 0   \n",
              "1                  0.0  0           0                0                 0   \n",
              "2                  0.0  0           0                0                 1   \n",
              "3                  0.0  0           0                1                 0   \n",
              "4                  0.0  0           0                0                 0   \n",
              "\n",
              "   job_housemaid  job_management  ...  marital_married  marital_single  \\\n",
              "0              0               1  ...                1               0   \n",
              "1              0               0  ...                0               1   \n",
              "2              0               0  ...                1               0   \n",
              "3              0               0  ...                1               0   \n",
              "4              0               0  ...                0               1   \n",
              "\n",
              "   default_yes  housing_yes  loan_yes  poutcome_failure  poutcome_other  \\\n",
              "0            0            1         0                 0               0   \n",
              "1            0            1         0                 0               0   \n",
              "2            0            1         1                 0               0   \n",
              "3            0            1         0                 0               0   \n",
              "4            0            0         0                 0               0   \n",
              "\n",
              "   poutcome_success  poutcome_unknown  education_enc  \n",
              "0                 0                 1            3.0  \n",
              "1                 0                 1            2.0  \n",
              "2                 0                 1            2.0  \n",
              "3                 0                 1            0.0  \n",
              "4                 0                 1            0.0  \n",
              "\n",
              "[5 rows x 28 columns]"
            ],
            "text/html": [
              "\n",
              "  <div id=\"df-b59357f4-2e9e-4d49-9815-91eaf1d69d0e\">\n",
              "    <div class=\"colab-df-container\">\n",
              "      <div>\n",
              "<style scoped>\n",
              "    .dataframe tbody tr th:only-of-type {\n",
              "        vertical-align: middle;\n",
              "    }\n",
              "\n",
              "    .dataframe tbody tr th {\n",
              "        vertical-align: top;\n",
              "    }\n",
              "\n",
              "    .dataframe thead th {\n",
              "        text-align: right;\n",
              "    }\n",
              "</style>\n",
              "<table border=\"1\" class=\"dataframe\">\n",
              "  <thead>\n",
              "    <tr style=\"text-align: right;\">\n",
              "      <th></th>\n",
              "      <th>age_win_minmax</th>\n",
              "      <th>balance_win_minmax</th>\n",
              "      <th>duration_win_minmax</th>\n",
              "      <th>campaign_win_minmax</th>\n",
              "      <th>y</th>\n",
              "      <th>job_admin.</th>\n",
              "      <th>job_blue-collar</th>\n",
              "      <th>job_entrepreneur</th>\n",
              "      <th>job_housemaid</th>\n",
              "      <th>job_management</th>\n",
              "      <th>...</th>\n",
              "      <th>marital_married</th>\n",
              "      <th>marital_single</th>\n",
              "      <th>default_yes</th>\n",
              "      <th>housing_yes</th>\n",
              "      <th>loan_yes</th>\n",
              "      <th>poutcome_failure</th>\n",
              "      <th>poutcome_other</th>\n",
              "      <th>poutcome_success</th>\n",
              "      <th>poutcome_unknown</th>\n",
              "      <th>education_enc</th>\n",
              "    </tr>\n",
              "  </thead>\n",
              "  <tbody>\n",
              "    <tr>\n",
              "      <th>0</th>\n",
              "      <td>0.888889</td>\n",
              "      <td>0.896120</td>\n",
              "      <td>0.426471</td>\n",
              "      <td>0.0</td>\n",
              "      <td>0</td>\n",
              "      <td>0</td>\n",
              "      <td>0</td>\n",
              "      <td>0</td>\n",
              "      <td>0</td>\n",
              "      <td>1</td>\n",
              "      <td>...</td>\n",
              "      <td>1</td>\n",
              "      <td>0</td>\n",
              "      <td>0</td>\n",
              "      <td>1</td>\n",
              "      <td>0</td>\n",
              "      <td>0</td>\n",
              "      <td>0</td>\n",
              "      <td>0</td>\n",
              "      <td>1</td>\n",
              "      <td>3.0</td>\n",
              "    </tr>\n",
              "    <tr>\n",
              "      <th>1</th>\n",
              "      <td>0.577778</td>\n",
              "      <td>0.709700</td>\n",
              "      <td>0.246732</td>\n",
              "      <td>0.0</td>\n",
              "      <td>0</td>\n",
              "      <td>0</td>\n",
              "      <td>0</td>\n",
              "      <td>0</td>\n",
              "      <td>0</td>\n",
              "      <td>0</td>\n",
              "      <td>...</td>\n",
              "      <td>0</td>\n",
              "      <td>1</td>\n",
              "      <td>0</td>\n",
              "      <td>1</td>\n",
              "      <td>0</td>\n",
              "      <td>0</td>\n",
              "      <td>0</td>\n",
              "      <td>0</td>\n",
              "      <td>1</td>\n",
              "      <td>2.0</td>\n",
              "    </tr>\n",
              "    <tr>\n",
              "      <th>2</th>\n",
              "      <td>0.333333</td>\n",
              "      <td>0.707319</td>\n",
              "      <td>0.124183</td>\n",
              "      <td>0.0</td>\n",
              "      <td>0</td>\n",
              "      <td>0</td>\n",
              "      <td>0</td>\n",
              "      <td>1</td>\n",
              "      <td>0</td>\n",
              "      <td>0</td>\n",
              "      <td>...</td>\n",
              "      <td>1</td>\n",
              "      <td>0</td>\n",
              "      <td>0</td>\n",
              "      <td>1</td>\n",
              "      <td>1</td>\n",
              "      <td>0</td>\n",
              "      <td>0</td>\n",
              "      <td>0</td>\n",
              "      <td>1</td>\n",
              "      <td>2.0</td>\n",
              "    </tr>\n",
              "    <tr>\n",
              "      <th>3</th>\n",
              "      <td>0.644444</td>\n",
              "      <td>0.839947</td>\n",
              "      <td>0.150327</td>\n",
              "      <td>0.0</td>\n",
              "      <td>0</td>\n",
              "      <td>0</td>\n",
              "      <td>1</td>\n",
              "      <td>0</td>\n",
              "      <td>0</td>\n",
              "      <td>0</td>\n",
              "      <td>...</td>\n",
              "      <td>1</td>\n",
              "      <td>0</td>\n",
              "      <td>0</td>\n",
              "      <td>1</td>\n",
              "      <td>0</td>\n",
              "      <td>0</td>\n",
              "      <td>0</td>\n",
              "      <td>0</td>\n",
              "      <td>1</td>\n",
              "      <td>0.0</td>\n",
              "    </tr>\n",
              "    <tr>\n",
              "      <th>4</th>\n",
              "      <td>0.333333</td>\n",
              "      <td>0.707231</td>\n",
              "      <td>0.323529</td>\n",
              "      <td>0.0</td>\n",
              "      <td>0</td>\n",
              "      <td>0</td>\n",
              "      <td>0</td>\n",
              "      <td>0</td>\n",
              "      <td>0</td>\n",
              "      <td>0</td>\n",
              "      <td>...</td>\n",
              "      <td>0</td>\n",
              "      <td>1</td>\n",
              "      <td>0</td>\n",
              "      <td>0</td>\n",
              "      <td>0</td>\n",
              "      <td>0</td>\n",
              "      <td>0</td>\n",
              "      <td>0</td>\n",
              "      <td>1</td>\n",
              "      <td>0.0</td>\n",
              "    </tr>\n",
              "  </tbody>\n",
              "</table>\n",
              "<p>5 rows × 28 columns</p>\n",
              "</div>\n",
              "      <button class=\"colab-df-convert\" onclick=\"convertToInteractive('df-b59357f4-2e9e-4d49-9815-91eaf1d69d0e')\"\n",
              "              title=\"Convert this dataframe to an interactive table.\"\n",
              "              style=\"display:none;\">\n",
              "        \n",
              "  <svg xmlns=\"http://www.w3.org/2000/svg\" height=\"24px\"viewBox=\"0 0 24 24\"\n",
              "       width=\"24px\">\n",
              "    <path d=\"M0 0h24v24H0V0z\" fill=\"none\"/>\n",
              "    <path d=\"M18.56 5.44l.94 2.06.94-2.06 2.06-.94-2.06-.94-.94-2.06-.94 2.06-2.06.94zm-11 1L8.5 8.5l.94-2.06 2.06-.94-2.06-.94L8.5 2.5l-.94 2.06-2.06.94zm10 10l.94 2.06.94-2.06 2.06-.94-2.06-.94-.94-2.06-.94 2.06-2.06.94z\"/><path d=\"M17.41 7.96l-1.37-1.37c-.4-.4-.92-.59-1.43-.59-.52 0-1.04.2-1.43.59L10.3 9.45l-7.72 7.72c-.78.78-.78 2.05 0 2.83L4 21.41c.39.39.9.59 1.41.59.51 0 1.02-.2 1.41-.59l7.78-7.78 2.81-2.81c.8-.78.8-2.07 0-2.86zM5.41 20L4 18.59l7.72-7.72 1.47 1.35L5.41 20z\"/>\n",
              "  </svg>\n",
              "      </button>\n",
              "      \n",
              "  <style>\n",
              "    .colab-df-container {\n",
              "      display:flex;\n",
              "      flex-wrap:wrap;\n",
              "      gap: 12px;\n",
              "    }\n",
              "\n",
              "    .colab-df-convert {\n",
              "      background-color: #E8F0FE;\n",
              "      border: none;\n",
              "      border-radius: 50%;\n",
              "      cursor: pointer;\n",
              "      display: none;\n",
              "      fill: #1967D2;\n",
              "      height: 32px;\n",
              "      padding: 0 0 0 0;\n",
              "      width: 32px;\n",
              "    }\n",
              "\n",
              "    .colab-df-convert:hover {\n",
              "      background-color: #E2EBFA;\n",
              "      box-shadow: 0px 1px 2px rgba(60, 64, 67, 0.3), 0px 1px 3px 1px rgba(60, 64, 67, 0.15);\n",
              "      fill: #174EA6;\n",
              "    }\n",
              "\n",
              "    [theme=dark] .colab-df-convert {\n",
              "      background-color: #3B4455;\n",
              "      fill: #D2E3FC;\n",
              "    }\n",
              "\n",
              "    [theme=dark] .colab-df-convert:hover {\n",
              "      background-color: #434B5C;\n",
              "      box-shadow: 0px 1px 3px 1px rgba(0, 0, 0, 0.15);\n",
              "      filter: drop-shadow(0px 1px 2px rgba(0, 0, 0, 0.3));\n",
              "      fill: #FFFFFF;\n",
              "    }\n",
              "  </style>\n",
              "\n",
              "      <script>\n",
              "        const buttonEl =\n",
              "          document.querySelector('#df-b59357f4-2e9e-4d49-9815-91eaf1d69d0e button.colab-df-convert');\n",
              "        buttonEl.style.display =\n",
              "          google.colab.kernel.accessAllowed ? 'block' : 'none';\n",
              "\n",
              "        async function convertToInteractive(key) {\n",
              "          const element = document.querySelector('#df-b59357f4-2e9e-4d49-9815-91eaf1d69d0e');\n",
              "          const dataTable =\n",
              "            await google.colab.kernel.invokeFunction('convertToInteractive',\n",
              "                                                     [key], {});\n",
              "          if (!dataTable) return;\n",
              "\n",
              "          const docLinkHtml = 'Like what you see? Visit the ' +\n",
              "            '<a target=\"_blank\" href=https://colab.research.google.com/notebooks/data_table.ipynb>data table notebook</a>'\n",
              "            + ' to learn more about interactive tables.';\n",
              "          element.innerHTML = '';\n",
              "          dataTable['output_type'] = 'display_data';\n",
              "          await google.colab.output.renderOutput(dataTable, element);\n",
              "          const docLink = document.createElement('div');\n",
              "          docLink.innerHTML = docLinkHtml;\n",
              "          element.appendChild(docLink);\n",
              "        }\n",
              "      </script>\n",
              "    </div>\n",
              "  </div>\n",
              "  "
            ]
          },
          "metadata": {},
          "execution_count": 49
        }
      ],
      "source": [
        "df_ft.head()"
      ],
      "id": "6832f2a9-81c3-4f87-81be-0fefe18559e6"
    },
    {
      "cell_type": "code",
      "execution_count": 50,
      "metadata": {
        "id": "4ff59a2f-87e8-4b75-8ebe-bb2d350c501f"
      },
      "outputs": [],
      "source": [
        "x = df_ft.drop(columns=['y']) #independent feature\n",
        "y = df_ft['y'] #target"
      ],
      "id": "4ff59a2f-87e8-4b75-8ebe-bb2d350c501f"
    },
    {
      "cell_type": "code",
      "execution_count": 51,
      "metadata": {
        "colab": {
          "base_uri": "https://localhost:8080/",
          "height": 352
        },
        "id": "68488336-96c6-4f18-89e2-3ebbf1adec27",
        "outputId": "81bbec28-7f82-4967-e32f-2684993141e4"
      },
      "outputs": [
        {
          "output_type": "stream",
          "name": "stdout",
          "text": [
            "[0.17611938 0.18287217 0.30773944 0.06169889 0.00817864 0.00669835\n",
            " 0.0044108  0.00376687 0.00825221 0.00588172 0.00504061 0.00623183\n",
            " 0.00501697 0.00871927 0.0048884  0.00161328 0.00584554 0.0075045\n",
            " 0.00700579 0.00324481 0.02536467 0.01309096 0.01003679 0.00681831\n",
            " 0.05802989 0.02119796 0.04473196]\n"
          ]
        },
        {
          "output_type": "display_data",
          "data": {
            "text/plain": [
              "<Figure size 432x288 with 1 Axes>"
            ],
            "image/png": "[encoded data removed]"
          },
          "metadata": {
            "needs_background": "light"
          }
        }
      ],
      "source": [
        "model = ExtraTreesClassifier()\n",
        "model.fit(x,y)\n",
        "print(model.feature_importances_)\n",
        "feat_importances = pd.Series(model.feature_importances_, index=x.columns)\n",
        "feat_importances.nlargest(10).plot(kind='barh')\n",
        "plt.show()"
      ],
      "id": "68488336-96c6-4f18-89e2-3ebbf1adec27"
    },
    {
      "cell_type": "code",
      "execution_count": 52,
      "metadata": {
        "id": "3e196e42-d774-402e-84a1-d095a8721967"
      },
      "outputs": [],
      "source": [
        "df_slc = pd.DataFrame()\n",
        "df_slc = df_ft[feat_importances.nlargest(10).index]\n",
        "df_slc = df_slc.drop(columns=['poutcome_unknown'])"
      ],
      "id": "3e196e42-d774-402e-84a1-d095a8721967"
    },
    {
      "cell_type": "code",
      "execution_count": 53,
      "metadata": {
        "id": "00eba3aa-d8b1-4b60-8bac-ce48c9fc3dc7"
      },
      "outputs": [],
      "source": [
        "df_slc['y'] = df_ft['y']"
      ],
      "id": "00eba3aa-d8b1-4b60-8bac-ce48c9fc3dc7"
    },
    {
      "cell_type": "markdown",
      "metadata": {
        "id": "48571b65-521e-4dc4-a2b7-5a289496ddb3"
      },
      "source": [
        "# MODELLING"
      ],
      "id": "48571b65-521e-4dc4-a2b7-5a289496ddb3"
    },
    {
      "cell_type": "code",
      "execution_count": 54,
      "metadata": {
        "colab": {
          "base_uri": "https://localhost:8080/",
          "height": 206
        },
        "id": "a397e918-8b12-4b0a-aa84-b83b584f8d49",
        "outputId": "567813cb-38f0-45a7-f9e3-1bdf27b5f045"
      },
      "outputs": [
        {
          "output_type": "execute_result",
          "data": {
            "text/plain": [
              "   duration_win_minmax  balance_win_minmax  age_win_minmax  \\\n",
              "0             0.426471            0.896120        0.888889   \n",
              "1             0.246732            0.709700        0.577778   \n",
              "2             0.124183            0.707319        0.333333   \n",
              "3             0.150327            0.839947        0.644444   \n",
              "4             0.323529            0.707231        0.333333   \n",
              "\n",
              "   campaign_win_minmax  poutcome_success  education_enc  housing_yes  \\\n",
              "0                  0.0                 0            3.0            1   \n",
              "1                  0.0                 0            2.0            1   \n",
              "2                  0.0                 0            2.0            1   \n",
              "3                  0.0                 0            0.0            1   \n",
              "4                  0.0                 0            0.0            0   \n",
              "\n",
              "   loan_yes  poutcome_failure  y  \n",
              "0         0                 0  0  \n",
              "1         0                 0  0  \n",
              "2         1                 0  0  \n",
              "3         0                 0  0  \n",
              "4         0                 0  0  "
            ],
            "text/html": [
              "\n",
              "  <div id=\"df-f7933ed5-319e-498b-90d8-1dce993fd666\">\n",
              "    <div class=\"colab-df-container\">\n",
              "      <div>\n",
              "<style scoped>\n",
              "    .dataframe tbody tr th:only-of-type {\n",
              "        vertical-align: middle;\n",
              "    }\n",
              "\n",
              "    .dataframe tbody tr th {\n",
              "        vertical-align: top;\n",
              "    }\n",
              "\n",
              "    .dataframe thead th {\n",
              "        text-align: right;\n",
              "    }\n",
              "</style>\n",
              "<table border=\"1\" class=\"dataframe\">\n",
              "  <thead>\n",
              "    <tr style=\"text-align: right;\">\n",
              "      <th></th>\n",
              "      <th>duration_win_minmax</th>\n",
              "      <th>balance_win_minmax</th>\n",
              "      <th>age_win_minmax</th>\n",
              "      <th>campaign_win_minmax</th>\n",
              "      <th>poutcome_success</th>\n",
              "      <th>education_enc</th>\n",
              "      <th>housing_yes</th>\n",
              "      <th>loan_yes</th>\n",
              "      <th>poutcome_failure</th>\n",
              "      <th>y</th>\n",
              "    </tr>\n",
              "  </thead>\n",
              "  <tbody>\n",
              "    <tr>\n",
              "      <th>0</th>\n",
              "      <td>0.426471</td>\n",
              "      <td>0.896120</td>\n",
              "      <td>0.888889</td>\n",
              "      <td>0.0</td>\n",
              "      <td>0</td>\n",
              "      <td>3.0</td>\n",
              "      <td>1</td>\n",
              "      <td>0</td>\n",
              "      <td>0</td>\n",
              "      <td>0</td>\n",
              "    </tr>\n",
              "    <tr>\n",
              "      <th>1</th>\n",
              "      <td>0.246732</td>\n",
              "      <td>0.709700</td>\n",
              "      <td>0.577778</td>\n",
              "      <td>0.0</td>\n",
              "      <td>0</td>\n",
              "      <td>2.0</td>\n",
              "      <td>1</td>\n",
              "      <td>0</td>\n",
              "      <td>0</td>\n",
              "      <td>0</td>\n",
              "    </tr>\n",
              "    <tr>\n",
              "      <th>2</th>\n",
              "      <td>0.124183</td>\n",
              "      <td>0.707319</td>\n",
              "      <td>0.333333</td>\n",
              "      <td>0.0</td>\n",
              "      <td>0</td>\n",
              "      <td>2.0</td>\n",
              "      <td>1</td>\n",
              "      <td>1</td>\n",
              "      <td>0</td>\n",
              "      <td>0</td>\n",
              "    </tr>\n",
              "    <tr>\n",
              "      <th>3</th>\n",
              "      <td>0.150327</td>\n",
              "      <td>0.839947</td>\n",
              "      <td>0.644444</td>\n",
              "      <td>0.0</td>\n",
              "      <td>0</td>\n",
              "      <td>0.0</td>\n",
              "      <td>1</td>\n",
              "      <td>0</td>\n",
              "      <td>0</td>\n",
              "      <td>0</td>\n",
              "    </tr>\n",
              "    <tr>\n",
              "      <th>4</th>\n",
              "      <td>0.323529</td>\n",
              "      <td>0.707231</td>\n",
              "      <td>0.333333</td>\n",
              "      <td>0.0</td>\n",
              "      <td>0</td>\n",
              "      <td>0.0</td>\n",
              "      <td>0</td>\n",
              "      <td>0</td>\n",
              "      <td>0</td>\n",
              "      <td>0</td>\n",
              "    </tr>\n",
              "  </tbody>\n",
              "</table>\n",
              "</div>\n",
              "      <button class=\"colab-df-convert\" onclick=\"convertToInteractive('df-f7933ed5-319e-498b-90d8-1dce993fd666')\"\n",
              "              title=\"Convert this dataframe to an interactive table.\"\n",
              "              style=\"display:none;\">\n",
              "        \n",
              "  <svg xmlns=\"http://www.w3.org/2000/svg\" height=\"24px\"viewBox=\"0 0 24 24\"\n",
              "       width=\"24px\">\n",
              "    <path d=\"M0 0h24v24H0V0z\" fill=\"none\"/>\n",
              "    <path d=\"M18.56 5.44l.94 2.06.94-2.06 2.06-.94-2.06-.94-.94-2.06-.94 2.06-2.06.94zm-11 1L8.5 8.5l.94-2.06 2.06-.94-2.06-.94L8.5 2.5l-.94 2.06-2.06.94zm10 10l.94 2.06.94-2.06 2.06-.94-2.06-.94-.94-2.06-.94 2.06-2.06.94z\"/><path d=\"M17.41 7.96l-1.37-1.37c-.4-.4-.92-.59-1.43-.59-.52 0-1.04.2-1.43.59L10.3 9.45l-7.72 7.72c-.78.78-.78 2.05 0 2.83L4 21.41c.39.39.9.59 1.41.59.51 0 1.02-.2 1.41-.59l7.78-7.78 2.81-2.81c.8-.78.8-2.07 0-2.86zM5.41 20L4 18.59l7.72-7.72 1.47 1.35L5.41 20z\"/>\n",
              "  </svg>\n",
              "      </button>\n",
              "      \n",
              "  <style>\n",
              "    .colab-df-container {\n",
              "      display:flex;\n",
              "      flex-wrap:wrap;\n",
              "      gap: 12px;\n",
              "    }\n",
              "\n",
              "    .colab-df-convert {\n",
              "      background-color: #E8F0FE;\n",
              "      border: none;\n",
              "      border-radius: 50%;\n",
              "      cursor: pointer;\n",
              "      display: none;\n",
              "      fill: #1967D2;\n",
              "      height: 32px;\n",
              "      padding: 0 0 0 0;\n",
              "      width: 32px;\n",
              "    }\n",
              "\n",
              "    .colab-df-convert:hover {\n",
              "      background-color: #E2EBFA;\n",
              "      box-shadow: 0px 1px 2px rgba(60, 64, 67, 0.3), 0px 1px 3px 1px rgba(60, 64, 67, 0.15);\n",
              "      fill: #174EA6;\n",
              "    }\n",
              "\n",
              "    [theme=dark] .colab-df-convert {\n",
              "      background-color: #3B4455;\n",
              "      fill: #D2E3FC;\n",
              "    }\n",
              "\n",
              "    [theme=dark] .colab-df-convert:hover {\n",
              "      background-color: #434B5C;\n",
              "      box-shadow: 0px 1px 3px 1px rgba(0, 0, 0, 0.15);\n",
              "      filter: drop-shadow(0px 1px 2px rgba(0, 0, 0, 0.3));\n",
              "      fill: #FFFFFF;\n",
              "    }\n",
              "  </style>\n",
              "\n",
              "      <script>\n",
              "        const buttonEl =\n",
              "          document.querySelector('#df-f7933ed5-319e-498b-90d8-1dce993fd666 button.colab-df-convert');\n",
              "        buttonEl.style.display =\n",
              "          google.colab.kernel.accessAllowed ? 'block' : 'none';\n",
              "\n",
              "        async function convertToInteractive(key) {\n",
              "          const element = document.querySelector('#df-f7933ed5-319e-498b-90d8-1dce993fd666');\n",
              "          const dataTable =\n",
              "            await google.colab.kernel.invokeFunction('convertToInteractive',\n",
              "                                                     [key], {});\n",
              "          if (!dataTable) return;\n",
              "\n",
              "          const docLinkHtml = 'Like what you see? Visit the ' +\n",
              "            '<a target=\"_blank\" href=https://colab.research.google.com/notebooks/data_table.ipynb>data table notebook</a>'\n",
              "            + ' to learn more about interactive tables.';\n",
              "          element.innerHTML = '';\n",
              "          dataTable['output_type'] = 'display_data';\n",
              "          await google.colab.output.renderOutput(dataTable, element);\n",
              "          const docLink = document.createElement('div');\n",
              "          docLink.innerHTML = docLinkHtml;\n",
              "          element.appendChild(docLink);\n",
              "        }\n",
              "      </script>\n",
              "    </div>\n",
              "  </div>\n",
              "  "
            ]
          },
          "metadata": {},
          "execution_count": 54
        }
      ],
      "source": [
        "df_slc.head()"
      ],
      "id": "a397e918-8b12-4b0a-aa84-b83b584f8d49"
    },
    {
      "cell_type": "markdown",
      "metadata": {
        "id": "66997ce9-99c3-48f1-b6f5-ba0b938ed580"
      },
      "source": [
        "## LOGISTIC REGRESSION"
      ],
      "id": "66997ce9-99c3-48f1-b6f5-ba0b938ed580"
    },
    {
      "cell_type": "code",
      "execution_count": 55,
      "metadata": {
        "id": "e62cf938-2cfa-4502-87a7-278375c99f08"
      },
      "outputs": [],
      "source": [
        "X = df_slc.drop(columns=['y', 'housing_yes'])\n",
        "y = df_slc['y']"
      ],
      "id": "e62cf938-2cfa-4502-87a7-278375c99f08"
    },
    {
      "cell_type": "code",
      "execution_count": 56,
      "metadata": {
        "id": "bee0c22c-c450-4e6e-9a49-5e5e55269b37"
      },
      "outputs": [],
      "source": [
        "# tarin test split\n",
        "X_train, X_test, y_train, y_test = train_test_split(X, y, test_size=0.3, random_state=0) #size test 20%"
      ],
      "id": "bee0c22c-c450-4e6e-9a49-5e5e55269b37"
    },
    {
      "cell_type": "code",
      "execution_count": 57,
      "metadata": {
        "id": "20674e5f-20e6-4381-bd99-b5e036af4936"
      },
      "outputs": [],
      "source": [
        "model_lr = LogisticRegression()\n",
        "model_lr.fit(X_train, y_train)\n",
        "y_pred_lr = model_lr.predict(X_test)"
      ],
      "id": "20674e5f-20e6-4381-bd99-b5e036af4936"
    },
    {
      "cell_type": "code",
      "execution_count": 58,
      "metadata": {
        "colab": {
          "base_uri": "https://localhost:8080/",
          "height": 279
        },
        "id": "50a000b8-330f-4ec7-a401-4fef9034f646",
        "outputId": "6eba6258-8795-4fbf-eb70-9a7af2831273"
      },
      "outputs": [
        {
          "output_type": "display_data",
          "data": {
            "text/plain": [
              "<Figure size 432x288 with 2 Axes>"
            ],
            "image/png": "[encoded data removed]"
          },
          "metadata": {
            "needs_background": "light"
          }
        }
      ],
      "source": [
        "sns.heatmap(confusion_matrix(y_test, y_pred_lr), annot=True, fmt='.0f')\n",
        "plt.xlabel('Prediction')\n",
        "plt.ylabel('Actual')\n",
        "plt.show()"
      ],
      "id": "50a000b8-330f-4ec7-a401-4fef9034f646"
    },
    {
      "cell_type": "code",
      "execution_count": 59,
      "metadata": {
        "colab": {
          "base_uri": "https://localhost:8080/"
        },
        "id": "a6005f10-5598-4c76-86ab-92b314062a00",
        "outputId": "b42778e0-a92d-4e4c-fbed-6bc06e48fd5e"
      },
      "outputs": [
        {
          "output_type": "stream",
          "name": "stdout",
          "text": [
            "              precision    recall  f1-score   support\n",
            "\n",
            "           0       0.91      0.98      0.94     11969\n",
            "           1       0.60      0.24      0.34      1595\n",
            "\n",
            "    accuracy                           0.89     13564\n",
            "   macro avg       0.75      0.61      0.64     13564\n",
            "weighted avg       0.87      0.89      0.87     13564\n",
            "\n"
          ]
        }
      ],
      "source": [
        "print(classification_report(y_test, y_pred_lr))"
      ],
      "id": "a6005f10-5598-4c76-86ab-92b314062a00"
    },
    {
      "cell_type": "markdown",
      "metadata": {
        "id": "10QeNS14xES3"
      },
      "source": [
        "> Here we choose precision to optimize because we think FP is more important to optimize. because the model predicts unsubscribed customers are already subscribed, which means their future campaigns won't be opted in to the campaign."
      ],
      "id": "10QeNS14xES3"
    },
    {
      "cell_type": "code",
      "execution_count": 60,
      "metadata": {
        "id": "ae63a602-0d01-4c4a-af71-bc25c77c5f8c"
      },
      "outputs": [],
      "source": [
        "def cv_score(model, data_x, data_y, scoring, n):\n",
        "    \n",
        "    cv = KFold(n_splits=n, shuffle=False)\n",
        "    scores_train = cross_val_score(model, data_x, data_y, scoring=scoring, cv=cv)\n",
        "    scores_test = cross_validate(model, data_x, data_y, cv=n)\n",
        "\n",
        "    plt.figure(figsize=(7,5))\n",
        "    sns.lineplot(data=scores_train, label='Train', marker='o')\n",
        "    sns.lineplot(data=scores_test['test_score'], label='Test', marker='o')\n",
        "    plt.show()\n",
        "    \n",
        "    return pd.DataFrame(data = [scores_train.mean()*100, scores_test['test_score'].mean()*100],\n",
        "                        index = ['Train', 'Test'],\n",
        "                        columns =['Score (%)']\n",
        "                       )\n",
        "    "
      ],
      "id": "ae63a602-0d01-4c4a-af71-bc25c77c5f8c"
    },
    {
      "cell_type": "code",
      "execution_count": 61,
      "metadata": {
        "colab": {
          "base_uri": "https://localhost:8080/",
          "height": 415
        },
        "id": "0bd7912e-c781-4de9-aed6-abce95fffe8e",
        "outputId": "9bc6e781-f5e4-4a73-a799-9f2ee94db8cf"
      },
      "outputs": [
        {
          "output_type": "display_data",
          "data": {
            "text/plain": [
              "<Figure size 504x360 with 1 Axes>"
            ],
            "image/png": "[encoded data removed]"
          },
          "metadata": {
            "needs_background": "light"
          }
        },
        {
          "output_type": "execute_result",
          "data": {
            "text/plain": [
              "       Score (%)\n",
              "Train  63.246608\n",
              "Test   89.544041"
            ],
            "text/html": [
              "\n",
              "  <div id=\"df-0a2e0adc-4022-417f-b9d1-f25eae38a893\">\n",
              "    <div class=\"colab-df-container\">\n",
              "      <div>\n",
              "<style scoped>\n",
              "    .dataframe tbody tr th:only-of-type {\n",
              "        vertical-align: middle;\n",
              "    }\n",
              "\n",
              "    .dataframe tbody tr th {\n",
              "        vertical-align: top;\n",
              "    }\n",
              "\n",
              "    .dataframe thead th {\n",
              "        text-align: right;\n",
              "    }\n",
              "</style>\n",
              "<table border=\"1\" class=\"dataframe\">\n",
              "  <thead>\n",
              "    <tr style=\"text-align: right;\">\n",
              "      <th></th>\n",
              "      <th>Score (%)</th>\n",
              "    </tr>\n",
              "  </thead>\n",
              "  <tbody>\n",
              "    <tr>\n",
              "      <th>Train</th>\n",
              "      <td>63.246608</td>\n",
              "    </tr>\n",
              "    <tr>\n",
              "      <th>Test</th>\n",
              "      <td>89.544041</td>\n",
              "    </tr>\n",
              "  </tbody>\n",
              "</table>\n",
              "</div>\n",
              "      <button class=\"colab-df-convert\" onclick=\"convertToInteractive('df-0a2e0adc-4022-417f-b9d1-f25eae38a893')\"\n",
              "              title=\"Convert this dataframe to an interactive table.\"\n",
              "              style=\"display:none;\">\n",
              "        \n",
              "  <svg xmlns=\"http://www.w3.org/2000/svg\" height=\"24px\"viewBox=\"0 0 24 24\"\n",
              "       width=\"24px\">\n",
              "    <path d=\"M0 0h24v24H0V0z\" fill=\"none\"/>\n",
              "    <path d=\"M18.56 5.44l.94 2.06.94-2.06 2.06-.94-2.06-.94-.94-2.06-.94 2.06-2.06.94zm-11 1L8.5 8.5l.94-2.06 2.06-.94-2.06-.94L8.5 2.5l-.94 2.06-2.06.94zm10 10l.94 2.06.94-2.06 2.06-.94-2.06-.94-.94-2.06-.94 2.06-2.06.94z\"/><path d=\"M17.41 7.96l-1.37-1.37c-.4-.4-.92-.59-1.43-.59-.52 0-1.04.2-1.43.59L10.3 9.45l-7.72 7.72c-.78.78-.78 2.05 0 2.83L4 21.41c.39.39.9.59 1.41.59.51 0 1.02-.2 1.41-.59l7.78-7.78 2.81-2.81c.8-.78.8-2.07 0-2.86zM5.41 20L4 18.59l7.72-7.72 1.47 1.35L5.41 20z\"/>\n",
              "  </svg>\n",
              "      </button>\n",
              "      \n",
              "  <style>\n",
              "    .colab-df-container {\n",
              "      display:flex;\n",
              "      flex-wrap:wrap;\n",
              "      gap: 12px;\n",
              "    }\n",
              "\n",
              "    .colab-df-convert {\n",
              "      background-color: #E8F0FE;\n",
              "      border: none;\n",
              "      border-radius: 50%;\n",
              "      cursor: pointer;\n",
              "      display: none;\n",
              "      fill: #1967D2;\n",
              "      height: 32px;\n",
              "      padding: 0 0 0 0;\n",
              "      width: 32px;\n",
              "    }\n",
              "\n",
              "    .colab-df-convert:hover {\n",
              "      background-color: #E2EBFA;\n",
              "      box-shadow: 0px 1px 2px rgba(60, 64, 67, 0.3), 0px 1px 3px 1px rgba(60, 64, 67, 0.15);\n",
              "      fill: #174EA6;\n",
              "    }\n",
              "\n",
              "    [theme=dark] .colab-df-convert {\n",
              "      background-color: #3B4455;\n",
              "      fill: #D2E3FC;\n",
              "    }\n",
              "\n",
              "    [theme=dark] .colab-df-convert:hover {\n",
              "      background-color: #434B5C;\n",
              "      box-shadow: 0px 1px 3px 1px rgba(0, 0, 0, 0.15);\n",
              "      filter: drop-shadow(0px 1px 2px rgba(0, 0, 0, 0.3));\n",
              "      fill: #FFFFFF;\n",
              "    }\n",
              "  </style>\n",
              "\n",
              "      <script>\n",
              "        const buttonEl =\n",
              "          document.querySelector('#df-0a2e0adc-4022-417f-b9d1-f25eae38a893 button.colab-df-convert');\n",
              "        buttonEl.style.display =\n",
              "          google.colab.kernel.accessAllowed ? 'block' : 'none';\n",
              "\n",
              "        async function convertToInteractive(key) {\n",
              "          const element = document.querySelector('#df-0a2e0adc-4022-417f-b9d1-f25eae38a893');\n",
              "          const dataTable =\n",
              "            await google.colab.kernel.invokeFunction('convertToInteractive',\n",
              "                                                     [key], {});\n",
              "          if (!dataTable) return;\n",
              "\n",
              "          const docLinkHtml = 'Like what you see? Visit the ' +\n",
              "            '<a target=\"_blank\" href=https://colab.research.google.com/notebooks/data_table.ipynb>data table notebook</a>'\n",
              "            + ' to learn more about interactive tables.';\n",
              "          element.innerHTML = '';\n",
              "          dataTable['output_type'] = 'display_data';\n",
              "          await google.colab.output.renderOutput(dataTable, element);\n",
              "          const docLink = document.createElement('div');\n",
              "          docLink.innerHTML = docLinkHtml;\n",
              "          element.appendChild(docLink);\n",
              "        }\n",
              "      </script>\n",
              "    </div>\n",
              "  </div>\n",
              "  "
            ]
          },
          "metadata": {},
          "execution_count": 61
        }
      ],
      "source": [
        "cv_score(model_lr, X_train, y_train, 'precision', 5)"
      ],
      "id": "0bd7912e-c781-4de9-aed6-abce95fffe8e"
    },
    {
      "cell_type": "markdown",
      "metadata": {
        "id": "3TYLuR0IkaiS"
      },
      "source": [
        "> The difference in K-Fold Train and Test scores is more than 10%, so it can be concluded that the model is overfit."
      ],
      "id": "3TYLuR0IkaiS"
    },
    {
      "cell_type": "markdown",
      "metadata": {
        "id": "41a9f790-7f0e-404c-a938-50679cd07fd7"
      },
      "source": [
        "## LOGISTIC REGRESSION HYPERPARAMETER TUNING"
      ],
      "id": "41a9f790-7f0e-404c-a938-50679cd07fd7"
    },
    {
      "cell_type": "code",
      "execution_count": 62,
      "metadata": {
        "id": "9aa7a33c-4c19-45c0-aa23-8c7cadf531ea"
      },
      "outputs": [],
      "source": [
        "param = [{'solver' : ['saga'],\n",
        "          'penalty' : ['elasticnet', 'l1', 'l2', 'none'],\n",
        "          'max_iter' : [10,100], \n",
        "          'C' : [0.01, 0.1, 1], \n",
        "          'l1_ratio' : [0,1]},\n",
        "         \n",
        "          {'solver' : ['newton-cg', 'lbfgs'],\n",
        "           'penalty' : ['l2','none'],\n",
        "           'max_iter' : [10,100],\n",
        "           'C' : [0.01, 0.1, 1],\n",
        "           'l1_ratio' : [0,1]}]\n"
      ],
      "id": "9aa7a33c-4c19-45c0-aa23-8c7cadf531ea"
    },
    {
      "cell_type": "code",
      "execution_count": 63,
      "metadata": {
        "id": "48c20606-538f-4efb-a964-b332a9a9e42d"
      },
      "outputs": [],
      "source": [
        "lr_gs = GridSearchCV(estimator= model_lr, param_grid=param, cv=5, scoring='precision')"
      ],
      "id": "48c20606-538f-4efb-a964-b332a9a9e42d"
    },
    {
      "cell_type": "code",
      "execution_count": 64,
      "metadata": {
        "colab": {
          "base_uri": "https://localhost:8080/"
        },
        "id": "677d19f0-93fd-4e24-ae60-1ff90eab0397",
        "outputId": "f6d407f9-4021-40ac-b14d-47da12d41c1d"
      },
      "outputs": [
        {
          "output_type": "execute_result",
          "data": {
            "text/plain": [
              "GridSearchCV(cv=5, estimator=LogisticRegression(),\n",
              "             param_grid=[{'C': [0.01, 0.1, 1], 'l1_ratio': [0, 1],\n",
              "                          'max_iter': [10, 100],\n",
              "                          'penalty': ['elasticnet', 'l1', 'l2', 'none'],\n",
              "                          'solver': ['saga']},\n",
              "                         {'C': [0.01, 0.1, 1], 'l1_ratio': [0, 1],\n",
              "                          'max_iter': [10, 100], 'penalty': ['l2', 'none'],\n",
              "                          'solver': ['newton-cg', 'lbfgs']}],\n",
              "             scoring='precision')"
            ]
          },
          "metadata": {},
          "execution_count": 64
        }
      ],
      "source": [
        "lr_gs.fit(X_train, y_train)"
      ],
      "id": "677d19f0-93fd-4e24-ae60-1ff90eab0397"
    },
    {
      "cell_type": "code",
      "execution_count": 65,
      "metadata": {
        "colab": {
          "base_uri": "https://localhost:8080/"
        },
        "id": "15a2d15e-0588-4ad3-b538-3117a10466c4",
        "outputId": "728c173a-192f-4679-9427-62fba774fa92"
      },
      "outputs": [
        {
          "output_type": "execute_result",
          "data": {
            "text/plain": [
              "{'C': 0.01, 'l1_ratio': 0, 'max_iter': 10, 'penalty': 'l2', 'solver': 'lbfgs'}"
            ]
          },
          "metadata": {},
          "execution_count": 65
        }
      ],
      "source": [
        "lr_gs.best_params_"
      ],
      "id": "15a2d15e-0588-4ad3-b538-3117a10466c4"
    },
    {
      "cell_type": "code",
      "execution_count": 66,
      "metadata": {
        "id": "24766c76-3b6f-4d17-b3b8-a4c10fb05b5d"
      },
      "outputs": [],
      "source": [
        "model_lr_tuned = LogisticRegression(C=0.01, l1_ratio=0, max_iter=10, penalty='l2', solver='lbfgs') "
      ],
      "id": "24766c76-3b6f-4d17-b3b8-a4c10fb05b5d"
    },
    {
      "cell_type": "code",
      "execution_count": 67,
      "metadata": {
        "colab": {
          "base_uri": "https://localhost:8080/"
        },
        "id": "c29ad6fe-8e15-4c4d-97b8-e1a58c5e1e7b",
        "outputId": "5f72f59e-a560-43f5-e42b-e6027119e53d"
      },
      "outputs": [
        {
          "output_type": "execute_result",
          "data": {
            "text/plain": [
              "LogisticRegression(C=0.01, l1_ratio=0, max_iter=10)"
            ]
          },
          "metadata": {},
          "execution_count": 67
        }
      ],
      "source": [
        "model_lr_tuned.fit(X_train, y_train)"
      ],
      "id": "c29ad6fe-8e15-4c4d-97b8-e1a58c5e1e7b"
    },
    {
      "cell_type": "code",
      "execution_count": 68,
      "metadata": {
        "id": "b0895329-94e2-4a9b-a09e-bdfdb901b09a"
      },
      "outputs": [],
      "source": [
        "y_pred_lr_tuned = model_lr_tuned.predict(X_test)"
      ],
      "id": "b0895329-94e2-4a9b-a09e-bdfdb901b09a"
    },
    {
      "cell_type": "code",
      "execution_count": 69,
      "metadata": {
        "colab": {
          "base_uri": "https://localhost:8080/",
          "height": 334
        },
        "id": "00849153-81a5-4c1f-ab4f-81531571dd5f",
        "outputId": "f9ba014f-49e4-4db0-caf8-1b0a06111d88"
      },
      "outputs": [
        {
          "output_type": "display_data",
          "data": {
            "text/plain": [
              "<Figure size 576x360 with 2 Axes>"
            ],
            "image/png": "[encoded data removed]"
          },
          "metadata": {
            "needs_background": "light"
          }
        }
      ],
      "source": [
        "f, ax = plt.subplots(figsize=(8,5))\n",
        "sns.heatmap(confusion_matrix(y_test, y_pred_lr_tuned), annot=True, fmt='.0f', ax=ax)\n",
        "plt.xlabel('Prediction')\n",
        "plt.ylabel('Actual')\n",
        "plt.show()"
      ],
      "id": "00849153-81a5-4c1f-ab4f-81531571dd5f"
    },
    {
      "cell_type": "code",
      "execution_count": 70,
      "metadata": {
        "colab": {
          "base_uri": "https://localhost:8080/"
        },
        "id": "8c7e1f2e-1a30-4cb4-9446-9c9564338e8b",
        "outputId": "f0052f7a-de36-4559-f29e-bec26470008e"
      },
      "outputs": [
        {
          "output_type": "stream",
          "name": "stdout",
          "text": [
            "              precision    recall  f1-score   support\n",
            "\n",
            "           0       0.89      1.00      0.94     11969\n",
            "           1       0.74      0.09      0.16      1595\n",
            "\n",
            "    accuracy                           0.89     13564\n",
            "   macro avg       0.81      0.54      0.55     13564\n",
            "weighted avg       0.87      0.89      0.85     13564\n",
            "\n"
          ]
        }
      ],
      "source": [
        "print(classification_report(y_test, y_pred_lr_tuned))"
      ],
      "id": "8c7e1f2e-1a30-4cb4-9446-9c9564338e8b"
    },
    {
      "cell_type": "code",
      "execution_count": 71,
      "metadata": {
        "colab": {
          "base_uri": "https://localhost:8080/",
          "height": 416
        },
        "id": "ff08e60f-917b-42d1-8f3c-12d5de8b9857",
        "outputId": "6b888e1a-4cfb-48ef-fe7c-a644ff8306bc"
      },
      "outputs": [
        {
          "output_type": "display_data",
          "data": {
            "text/plain": [
              "<Figure size 504x360 with 1 Axes>"
            ],
            "image/png": "[encoded data removed]"
          },
          "metadata": {
            "needs_background": "light"
          }
        },
        {
          "output_type": "execute_result",
          "data": {
            "text/plain": [
              "       Score (%)\n",
              "Train  79.484650\n",
              "Test   89.111129"
            ],
            "text/html": [
              "\n",
              "  <div id=\"df-ce56aaf7-5786-4295-862d-f8a19b9d9029\">\n",
              "    <div class=\"colab-df-container\">\n",
              "      <div>\n",
              "<style scoped>\n",
              "    .dataframe tbody tr th:only-of-type {\n",
              "        vertical-align: middle;\n",
              "    }\n",
              "\n",
              "    .dataframe tbody tr th {\n",
              "        vertical-align: top;\n",
              "    }\n",
              "\n",
              "    .dataframe thead th {\n",
              "        text-align: right;\n",
              "    }\n",
              "</style>\n",
              "<table border=\"1\" class=\"dataframe\">\n",
              "  <thead>\n",
              "    <tr style=\"text-align: right;\">\n",
              "      <th></th>\n",
              "      <th>Score (%)</th>\n",
              "    </tr>\n",
              "  </thead>\n",
              "  <tbody>\n",
              "    <tr>\n",
              "      <th>Train</th>\n",
              "      <td>79.484650</td>\n",
              "    </tr>\n",
              "    <tr>\n",
              "      <th>Test</th>\n",
              "      <td>89.111129</td>\n",
              "    </tr>\n",
              "  </tbody>\n",
              "</table>\n",
              "</div>\n",
              "      <button class=\"colab-df-convert\" onclick=\"convertToInteractive('df-ce56aaf7-5786-4295-862d-f8a19b9d9029')\"\n",
              "              title=\"Convert this dataframe to an interactive table.\"\n",
              "              style=\"display:none;\">\n",
              "        \n",
              "  <svg xmlns=\"http://www.w3.org/2000/svg\" height=\"24px\"viewBox=\"0 0 24 24\"\n",
              "       width=\"24px\">\n",
              "    <path d=\"M0 0h24v24H0V0z\" fill=\"none\"/>\n",
              "    <path d=\"M18.56 5.44l.94 2.06.94-2.06 2.06-.94-2.06-.94-.94-2.06-.94 2.06-2.06.94zm-11 1L8.5 8.5l.94-2.06 2.06-.94-2.06-.94L8.5 2.5l-.94 2.06-2.06.94zm10 10l.94 2.06.94-2.06 2.06-.94-2.06-.94-.94-2.06-.94 2.06-2.06.94z\"/><path d=\"M17.41 7.96l-1.37-1.37c-.4-.4-.92-.59-1.43-.59-.52 0-1.04.2-1.43.59L10.3 9.45l-7.72 7.72c-.78.78-.78 2.05 0 2.83L4 21.41c.39.39.9.59 1.41.59.51 0 1.02-.2 1.41-.59l7.78-7.78 2.81-2.81c.8-.78.8-2.07 0-2.86zM5.41 20L4 18.59l7.72-7.72 1.47 1.35L5.41 20z\"/>\n",
              "  </svg>\n",
              "      </button>\n",
              "      \n",
              "  <style>\n",
              "    .colab-df-container {\n",
              "      display:flex;\n",
              "      flex-wrap:wrap;\n",
              "      gap: 12px;\n",
              "    }\n",
              "\n",
              "    .colab-df-convert {\n",
              "      background-color: #E8F0FE;\n",
              "      border: none;\n",
              "      border-radius: 50%;\n",
              "      cursor: pointer;\n",
              "      display: none;\n",
              "      fill: #1967D2;\n",
              "      height: 32px;\n",
              "      padding: 0 0 0 0;\n",
              "      width: 32px;\n",
              "    }\n",
              "\n",
              "    .colab-df-convert:hover {\n",
              "      background-color: #E2EBFA;\n",
              "      box-shadow: 0px 1px 2px rgba(60, 64, 67, 0.3), 0px 1px 3px 1px rgba(60, 64, 67, 0.15);\n",
              "      fill: #174EA6;\n",
              "    }\n",
              "\n",
              "    [theme=dark] .colab-df-convert {\n",
              "      background-color: #3B4455;\n",
              "      fill: #D2E3FC;\n",
              "    }\n",
              "\n",
              "    [theme=dark] .colab-df-convert:hover {\n",
              "      background-color: #434B5C;\n",
              "      box-shadow: 0px 1px 3px 1px rgba(0, 0, 0, 0.15);\n",
              "      filter: drop-shadow(0px 1px 2px rgba(0, 0, 0, 0.3));\n",
              "      fill: #FFFFFF;\n",
              "    }\n",
              "  </style>\n",
              "\n",
              "      <script>\n",
              "        const buttonEl =\n",
              "          document.querySelector('#df-ce56aaf7-5786-4295-862d-f8a19b9d9029 button.colab-df-convert');\n",
              "        buttonEl.style.display =\n",
              "          google.colab.kernel.accessAllowed ? 'block' : 'none';\n",
              "\n",
              "        async function convertToInteractive(key) {\n",
              "          const element = document.querySelector('#df-ce56aaf7-5786-4295-862d-f8a19b9d9029');\n",
              "          const dataTable =\n",
              "            await google.colab.kernel.invokeFunction('convertToInteractive',\n",
              "                                                     [key], {});\n",
              "          if (!dataTable) return;\n",
              "\n",
              "          const docLinkHtml = 'Like what you see? Visit the ' +\n",
              "            '<a target=\"_blank\" href=https://colab.research.google.com/notebooks/data_table.ipynb>data table notebook</a>'\n",
              "            + ' to learn more about interactive tables.';\n",
              "          element.innerHTML = '';\n",
              "          dataTable['output_type'] = 'display_data';\n",
              "          await google.colab.output.renderOutput(dataTable, element);\n",
              "          const docLink = document.createElement('div');\n",
              "          docLink.innerHTML = docLinkHtml;\n",
              "          element.appendChild(docLink);\n",
              "        }\n",
              "      </script>\n",
              "    </div>\n",
              "  </div>\n",
              "  "
            ]
          },
          "metadata": {},
          "execution_count": 71
        }
      ],
      "source": [
        "cv_score(model_lr_tuned, X_train, y_train, 'precision', 5)"
      ],
      "id": "ff08e60f-917b-42d1-8f3c-12d5de8b9857"
    },
    {
      "cell_type": "markdown",
      "metadata": {
        "id": "PVvM8OGJk_fB"
      },
      "source": [
        "> Based on the information above, it can be seen that the difference in the logistic regression score of the kfold train test with hyperparameter tuning is less than 10% which indicates that the model is neither overfit nor underfit."
      ],
      "id": "PVvM8OGJk_fB"
    },
    {
      "cell_type": "markdown",
      "metadata": {
        "id": "35e1416a-d998-4f8a-8535-d289658f4e3c"
      },
      "source": [
        "## GRADIENT BOOSTING\n"
      ],
      "id": "35e1416a-d998-4f8a-8535-d289658f4e3c"
    },
    {
      "cell_type": "code",
      "execution_count": 72,
      "metadata": {
        "id": "nGO9-FSxcZhD"
      },
      "outputs": [],
      "source": [
        "model_gb = GradientBoostingClassifier()\n",
        "model_gb.fit(X_train, y_train)\n",
        "y_pred_gb = model_gb.predict(X_test)"
      ],
      "id": "nGO9-FSxcZhD"
    },
    {
      "cell_type": "code",
      "execution_count": 73,
      "metadata": {
        "colab": {
          "base_uri": "https://localhost:8080/",
          "height": 334
        },
        "id": "eahgGhcJcNxd",
        "outputId": "981e7980-51c8-40eb-a184-7a872581758b"
      },
      "outputs": [
        {
          "output_type": "display_data",
          "data": {
            "text/plain": [
              "<Figure size 576x360 with 2 Axes>"
            ],
            "image/png": "[encoded data removed]"
          },
          "metadata": {
            "needs_background": "light"
          }
        }
      ],
      "source": [
        "f, ax = plt.subplots(figsize=(8,5))\n",
        "sns.heatmap(confusion_matrix(y_test, y_pred_gb), annot=True, fmt='.0f', ax=ax)\n",
        "plt.xlabel('Prediction')\n",
        "plt.ylabel('Actual')\n",
        "plt.show()"
      ],
      "id": "eahgGhcJcNxd"
    },
    {
      "cell_type": "code",
      "execution_count": 74,
      "metadata": {
        "colab": {
          "base_uri": "https://localhost:8080/"
        },
        "id": "gGyt8b4A4XxU",
        "outputId": "53c9eda1-d05a-4e3b-dad5-4eda59941595"
      },
      "outputs": [
        {
          "output_type": "stream",
          "name": "stdout",
          "text": [
            "              precision    recall  f1-score   support\n",
            "\n",
            "           0       0.92      0.97      0.94     11969\n",
            "           1       0.59      0.34      0.43      1595\n",
            "\n",
            "    accuracy                           0.89     13564\n",
            "   macro avg       0.75      0.65      0.68     13564\n",
            "weighted avg       0.88      0.89      0.88     13564\n",
            "\n"
          ]
        }
      ],
      "source": [
        "print(classification_report(y_test, y_pred_gb))"
      ],
      "id": "gGyt8b4A4XxU"
    },
    {
      "cell_type": "code",
      "execution_count": 75,
      "metadata": {
        "colab": {
          "base_uri": "https://localhost:8080/",
          "height": 415
        },
        "id": "FHKGv04J4aYX",
        "outputId": "209286a1-53d4-413c-b6d0-b955173c9b0d"
      },
      "outputs": [
        {
          "output_type": "display_data",
          "data": {
            "text/plain": [
              "<Figure size 504x360 with 1 Axes>"
            ],
            "image/png": "[encoded data removed]"
          },
          "metadata": {
            "needs_background": "light"
          }
        },
        {
          "output_type": "execute_result",
          "data": {
            "text/plain": [
              "       Score (%)\n",
              "Train  59.901290\n",
              "Test   89.679922"
            ],
            "text/html": [
              "\n",
              "  <div id=\"df-ab7bfbea-1999-4657-b961-6fd04385ec70\">\n",
              "    <div class=\"colab-df-container\">\n",
              "      <div>\n",
              "<style scoped>\n",
              "    .dataframe tbody tr th:only-of-type {\n",
              "        vertical-align: middle;\n",
              "    }\n",
              "\n",
              "    .dataframe tbody tr th {\n",
              "        vertical-align: top;\n",
              "    }\n",
              "\n",
              "    .dataframe thead th {\n",
              "        text-align: right;\n",
              "    }\n",
              "</style>\n",
              "<table border=\"1\" class=\"dataframe\">\n",
              "  <thead>\n",
              "    <tr style=\"text-align: right;\">\n",
              "      <th></th>\n",
              "      <th>Score (%)</th>\n",
              "    </tr>\n",
              "  </thead>\n",
              "  <tbody>\n",
              "    <tr>\n",
              "      <th>Train</th>\n",
              "      <td>59.901290</td>\n",
              "    </tr>\n",
              "    <tr>\n",
              "      <th>Test</th>\n",
              "      <td>89.679922</td>\n",
              "    </tr>\n",
              "  </tbody>\n",
              "</table>\n",
              "</div>\n",
              "      <button class=\"colab-df-convert\" onclick=\"convertToInteractive('df-ab7bfbea-1999-4657-b961-6fd04385ec70')\"\n",
              "              title=\"Convert this dataframe to an interactive table.\"\n",
              "              style=\"display:none;\">\n",
              "        \n",
              "  <svg xmlns=\"http://www.w3.org/2000/svg\" height=\"24px\"viewBox=\"0 0 24 24\"\n",
              "       width=\"24px\">\n",
              "    <path d=\"M0 0h24v24H0V0z\" fill=\"none\"/>\n",
              "    <path d=\"M18.56 5.44l.94 2.06.94-2.06 2.06-.94-2.06-.94-.94-2.06-.94 2.06-2.06.94zm-11 1L8.5 8.5l.94-2.06 2.06-.94-2.06-.94L8.5 2.5l-.94 2.06-2.06.94zm10 10l.94 2.06.94-2.06 2.06-.94-2.06-.94-.94-2.06-.94 2.06-2.06.94z\"/><path d=\"M17.41 7.96l-1.37-1.37c-.4-.4-.92-.59-1.43-.59-.52 0-1.04.2-1.43.59L10.3 9.45l-7.72 7.72c-.78.78-.78 2.05 0 2.83L4 21.41c.39.39.9.59 1.41.59.51 0 1.02-.2 1.41-.59l7.78-7.78 2.81-2.81c.8-.78.8-2.07 0-2.86zM5.41 20L4 18.59l7.72-7.72 1.47 1.35L5.41 20z\"/>\n",
              "  </svg>\n",
              "      </button>\n",
              "      \n",
              "  <style>\n",
              "    .colab-df-container {\n",
              "      display:flex;\n",
              "      flex-wrap:wrap;\n",
              "      gap: 12px;\n",
              "    }\n",
              "\n",
              "    .colab-df-convert {\n",
              "      background-color: #E8F0FE;\n",
              "      border: none;\n",
              "      border-radius: 50%;\n",
              "      cursor: pointer;\n",
              "      display: none;\n",
              "      fill: #1967D2;\n",
              "      height: 32px;\n",
              "      padding: 0 0 0 0;\n",
              "      width: 32px;\n",
              "    }\n",
              "\n",
              "    .colab-df-convert:hover {\n",
              "      background-color: #E2EBFA;\n",
              "      box-shadow: 0px 1px 2px rgba(60, 64, 67, 0.3), 0px 1px 3px 1px rgba(60, 64, 67, 0.15);\n",
              "      fill: #174EA6;\n",
              "    }\n",
              "\n",
              "    [theme=dark] .colab-df-convert {\n",
              "      background-color: #3B4455;\n",
              "      fill: #D2E3FC;\n",
              "    }\n",
              "\n",
              "    [theme=dark] .colab-df-convert:hover {\n",
              "      background-color: #434B5C;\n",
              "      box-shadow: 0px 1px 3px 1px rgba(0, 0, 0, 0.15);\n",
              "      filter: drop-shadow(0px 1px 2px rgba(0, 0, 0, 0.3));\n",
              "      fill: #FFFFFF;\n",
              "    }\n",
              "  </style>\n",
              "\n",
              "      <script>\n",
              "        const buttonEl =\n",
              "          document.querySelector('#df-ab7bfbea-1999-4657-b961-6fd04385ec70 button.colab-df-convert');\n",
              "        buttonEl.style.display =\n",
              "          google.colab.kernel.accessAllowed ? 'block' : 'none';\n",
              "\n",
              "        async function convertToInteractive(key) {\n",
              "          const element = document.querySelector('#df-ab7bfbea-1999-4657-b961-6fd04385ec70');\n",
              "          const dataTable =\n",
              "            await google.colab.kernel.invokeFunction('convertToInteractive',\n",
              "                                                     [key], {});\n",
              "          if (!dataTable) return;\n",
              "\n",
              "          const docLinkHtml = 'Like what you see? Visit the ' +\n",
              "            '<a target=\"_blank\" href=https://colab.research.google.com/notebooks/data_table.ipynb>data table notebook</a>'\n",
              "            + ' to learn more about interactive tables.';\n",
              "          element.innerHTML = '';\n",
              "          dataTable['output_type'] = 'display_data';\n",
              "          await google.colab.output.renderOutput(dataTable, element);\n",
              "          const docLink = document.createElement('div');\n",
              "          docLink.innerHTML = docLinkHtml;\n",
              "          element.appendChild(docLink);\n",
              "        }\n",
              "      </script>\n",
              "    </div>\n",
              "  </div>\n",
              "  "
            ]
          },
          "metadata": {},
          "execution_count": 75
        }
      ],
      "source": [
        "cv_score(model_gb, X_train, y_train, 'precision', 5)"
      ],
      "id": "FHKGv04J4aYX"
    },
    {
      "cell_type": "markdown",
      "source": [
        "> The difference in K-Fold Train and Test scores is more than 10%, so it can be concluded that the model is overfit."
      ],
      "metadata": {
        "id": "Z0h3M0l3fqQT"
      },
      "id": "Z0h3M0l3fqQT"
    },
    {
      "cell_type": "markdown",
      "metadata": {
        "id": "SqXFfYrdjOiA"
      },
      "source": [
        "## GRADIENT BOOSTING HYPERPARAMETER TUNING"
      ],
      "id": "SqXFfYrdjOiA"
    },
    {
      "cell_type": "code",
      "execution_count": 91,
      "metadata": {
        "id": "_tmafQNChBQX"
      },
      "outputs": [],
      "source": [
        "param = {\n",
        "    \"n_estimators\":[5,50,250,500],\n",
        "    \"max_depth\":[1,3,5,7,9],\n",
        "    \"learning_rate\":[0.01,0.1,1,10,100]\n",
        "}\n",
        "\n",
        "gb_gs = GridSearchCV(estimator= model_gb, param_grid=param, cv=5, scoring='precision')"
      ],
      "id": "_tmafQNChBQX"
    },
    {
      "cell_type": "code",
      "execution_count": 92,
      "metadata": {
        "colab": {
          "base_uri": "https://localhost:8080/"
        },
        "id": "YGM3hEloexTU",
        "outputId": "b9560a0a-6091-42b4-93ff-878bdfc3969c"
      },
      "outputs": [
        {
          "output_type": "execute_result",
          "data": {
            "text/plain": [
              "GridSearchCV(cv=5, estimator=GradientBoostingClassifier(),\n",
              "             param_grid={'learning_rate': [0.01, 0.1, 1, 10, 100],\n",
              "                         'max_depth': [1, 3, 5, 7, 9],\n",
              "                         'n_estimators': [5, 50, 250, 500]},\n",
              "             scoring='precision')"
            ]
          },
          "metadata": {},
          "execution_count": 92
        }
      ],
      "source": [
        "gb_gs.fit(X_train, y_train)"
      ],
      "id": "YGM3hEloexTU"
    },
    {
      "cell_type": "code",
      "execution_count": 93,
      "metadata": {
        "colab": {
          "base_uri": "https://localhost:8080/"
        },
        "id": "Ek49418pNOph",
        "outputId": "4d4590ad-dfee-4907-b519-e5ed85908021"
      },
      "outputs": [
        {
          "output_type": "execute_result",
          "data": {
            "text/plain": [
              "{'learning_rate': 0.1, 'max_depth': 7, 'n_estimators': 5}"
            ]
          },
          "metadata": {},
          "execution_count": 93
        }
      ],
      "source": [
        "gb_gs.best_params_"
      ],
      "id": "Ek49418pNOph"
    },
    {
      "cell_type": "code",
      "execution_count": 94,
      "metadata": {
        "id": "Y_8-bLzMvfKX"
      },
      "outputs": [],
      "source": [
        "model_gb_tuned = GradientBoostingClassifier(n_estimators=5, max_depth=7, learning_rate=0.1)"
      ],
      "id": "Y_8-bLzMvfKX"
    },
    {
      "cell_type": "code",
      "execution_count": 95,
      "metadata": {
        "colab": {
          "base_uri": "https://localhost:8080/"
        },
        "id": "dVQ47ZzuNvG_",
        "outputId": "b1fc0b8b-b366-4ceb-891e-5296cd494b93"
      },
      "outputs": [
        {
          "output_type": "execute_result",
          "data": {
            "text/plain": [
              "GradientBoostingClassifier(max_depth=7, n_estimators=5)"
            ]
          },
          "metadata": {},
          "execution_count": 95
        }
      ],
      "source": [
        "model_gb_tuned.fit(X_train, y_train)"
      ],
      "id": "dVQ47ZzuNvG_"
    },
    {
      "cell_type": "code",
      "execution_count": 96,
      "metadata": {
        "id": "7tkYsQvYOEzp"
      },
      "outputs": [],
      "source": [
        "y_pred_gb_tuned = model_gb_tuned.predict(X_test)"
      ],
      "id": "7tkYsQvYOEzp"
    },
    {
      "cell_type": "code",
      "execution_count": 97,
      "metadata": {
        "colab": {
          "base_uri": "https://localhost:8080/"
        },
        "id": "sxijWX2uEv5f",
        "outputId": "8cb0f949-3d88-4970-c3a8-af9d361797cd"
      },
      "outputs": [
        {
          "output_type": "stream",
          "name": "stdout",
          "text": [
            "              precision    recall  f1-score   support\n",
            "\n",
            "           0       0.88      1.00      0.94     11969\n",
            "           1       0.64      0.01      0.02      1595\n",
            "\n",
            "    accuracy                           0.88     13564\n",
            "   macro avg       0.76      0.50      0.48     13564\n",
            "weighted avg       0.85      0.88      0.83     13564\n",
            "\n"
          ]
        }
      ],
      "source": [
        "print(classification_report(y_test, y_pred_gb_tuned))"
      ],
      "id": "sxijWX2uEv5f"
    },
    {
      "cell_type": "code",
      "source": [
        "f, ax = plt.subplots(figsize=(8,5))\n",
        "sns.heatmap(confusion_matrix(y_test, y_pred_gb_tuned), annot=True, fmt='.0f', ax=ax)\n",
        "plt.xlabel('Prediction')\n",
        "plt.ylabel('Actual')\n",
        "plt.show()"
      ],
      "metadata": {
        "colab": {
          "base_uri": "https://localhost:8080/",
          "height": 334
        },
        "id": "vUm3KOGrY7qT",
        "outputId": "e6859c6f-f1c0-4db9-9750-40bb93877ae6"
      },
      "id": "vUm3KOGrY7qT",
      "execution_count": 98,
      "outputs": [
        {
          "output_type": "display_data",
          "data": {
            "text/plain": [
              "<Figure size 576x360 with 2 Axes>"
            ],
            "image/png": "[encoded data removed]"
          },
          "metadata": {
            "needs_background": "light"
          }
        }
      ]
    },
    {
      "cell_type": "code",
      "execution_count": 99,
      "metadata": {
        "colab": {
          "base_uri": "https://localhost:8080/",
          "height": 415
        },
        "id": "BrTHSu3eDPc2",
        "outputId": "711e926d-00f4-4d8d-b5c3-31c20676eea5"
      },
      "outputs": [
        {
          "output_type": "display_data",
          "data": {
            "text/plain": [
              "<Figure size 504x360 with 1 Axes>"
            ],
            "image/png": "[encoded data removed]"
          },
          "metadata": {
            "needs_background": "light"
          }
        },
        {
          "output_type": "execute_result",
          "data": {
            "text/plain": [
              "       Score (%)\n",
              "Train  89.574706\n",
              "Test   88.479161"
            ],
            "text/html": [
              "\n",
              "  <div id=\"df-809e3011-e137-4e6d-a31c-0b1eb4ad5219\">\n",
              "    <div class=\"colab-df-container\">\n",
              "      <div>\n",
              "<style scoped>\n",
              "    .dataframe tbody tr th:only-of-type {\n",
              "        vertical-align: middle;\n",
              "    }\n",
              "\n",
              "    .dataframe tbody tr th {\n",
              "        vertical-align: top;\n",
              "    }\n",
              "\n",
              "    .dataframe thead th {\n",
              "        text-align: right;\n",
              "    }\n",
              "</style>\n",
              "<table border=\"1\" class=\"dataframe\">\n",
              "  <thead>\n",
              "    <tr style=\"text-align: right;\">\n",
              "      <th></th>\n",
              "      <th>Score (%)</th>\n",
              "    </tr>\n",
              "  </thead>\n",
              "  <tbody>\n",
              "    <tr>\n",
              "      <th>Train</th>\n",
              "      <td>89.574706</td>\n",
              "    </tr>\n",
              "    <tr>\n",
              "      <th>Test</th>\n",
              "      <td>88.479161</td>\n",
              "    </tr>\n",
              "  </tbody>\n",
              "</table>\n",
              "</div>\n",
              "      <button class=\"colab-df-convert\" onclick=\"convertToInteractive('df-809e3011-e137-4e6d-a31c-0b1eb4ad5219')\"\n",
              "              title=\"Convert this dataframe to an interactive table.\"\n",
              "              style=\"display:none;\">\n",
              "        \n",
              "  <svg xmlns=\"http://www.w3.org/2000/svg\" height=\"24px\"viewBox=\"0 0 24 24\"\n",
              "       width=\"24px\">\n",
              "    <path d=\"M0 0h24v24H0V0z\" fill=\"none\"/>\n",
              "    <path d=\"M18.56 5.44l.94 2.06.94-2.06 2.06-.94-2.06-.94-.94-2.06-.94 2.06-2.06.94zm-11 1L8.5 8.5l.94-2.06 2.06-.94-2.06-.94L8.5 2.5l-.94 2.06-2.06.94zm10 10l.94 2.06.94-2.06 2.06-.94-2.06-.94-.94-2.06-.94 2.06-2.06.94z\"/><path d=\"M17.41 7.96l-1.37-1.37c-.4-.4-.92-.59-1.43-.59-.52 0-1.04.2-1.43.59L10.3 9.45l-7.72 7.72c-.78.78-.78 2.05 0 2.83L4 21.41c.39.39.9.59 1.41.59.51 0 1.02-.2 1.41-.59l7.78-7.78 2.81-2.81c.8-.78.8-2.07 0-2.86zM5.41 20L4 18.59l7.72-7.72 1.47 1.35L5.41 20z\"/>\n",
              "  </svg>\n",
              "      </button>\n",
              "      \n",
              "  <style>\n",
              "    .colab-df-container {\n",
              "      display:flex;\n",
              "      flex-wrap:wrap;\n",
              "      gap: 12px;\n",
              "    }\n",
              "\n",
              "    .colab-df-convert {\n",
              "      background-color: #E8F0FE;\n",
              "      border: none;\n",
              "      border-radius: 50%;\n",
              "      cursor: pointer;\n",
              "      display: none;\n",
              "      fill: #1967D2;\n",
              "      height: 32px;\n",
              "      padding: 0 0 0 0;\n",
              "      width: 32px;\n",
              "    }\n",
              "\n",
              "    .colab-df-convert:hover {\n",
              "      background-color: #E2EBFA;\n",
              "      box-shadow: 0px 1px 2px rgba(60, 64, 67, 0.3), 0px 1px 3px 1px rgba(60, 64, 67, 0.15);\n",
              "      fill: #174EA6;\n",
              "    }\n",
              "\n",
              "    [theme=dark] .colab-df-convert {\n",
              "      background-color: #3B4455;\n",
              "      fill: #D2E3FC;\n",
              "    }\n",
              "\n",
              "    [theme=dark] .colab-df-convert:hover {\n",
              "      background-color: #434B5C;\n",
              "      box-shadow: 0px 1px 3px 1px rgba(0, 0, 0, 0.15);\n",
              "      filter: drop-shadow(0px 1px 2px rgba(0, 0, 0, 0.3));\n",
              "      fill: #FFFFFF;\n",
              "    }\n",
              "  </style>\n",
              "\n",
              "      <script>\n",
              "        const buttonEl =\n",
              "          document.querySelector('#df-809e3011-e137-4e6d-a31c-0b1eb4ad5219 button.colab-df-convert');\n",
              "        buttonEl.style.display =\n",
              "          google.colab.kernel.accessAllowed ? 'block' : 'none';\n",
              "\n",
              "        async function convertToInteractive(key) {\n",
              "          const element = document.querySelector('#df-809e3011-e137-4e6d-a31c-0b1eb4ad5219');\n",
              "          const dataTable =\n",
              "            await google.colab.kernel.invokeFunction('convertToInteractive',\n",
              "                                                     [key], {});\n",
              "          if (!dataTable) return;\n",
              "\n",
              "          const docLinkHtml = 'Like what you see? Visit the ' +\n",
              "            '<a target=\"_blank\" href=https://colab.research.google.com/notebooks/data_table.ipynb>data table notebook</a>'\n",
              "            + ' to learn more about interactive tables.';\n",
              "          element.innerHTML = '';\n",
              "          dataTable['output_type'] = 'display_data';\n",
              "          await google.colab.output.renderOutput(dataTable, element);\n",
              "          const docLink = document.createElement('div');\n",
              "          docLink.innerHTML = docLinkHtml;\n",
              "          element.appendChild(docLink);\n",
              "        }\n",
              "      </script>\n",
              "    </div>\n",
              "  </div>\n",
              "  "
            ]
          },
          "metadata": {},
          "execution_count": 99
        }
      ],
      "source": [
        "cv_score(model_gb_tuned, X_train, y_train, 'precision', 5)"
      ],
      "id": "BrTHSu3eDPc2"
    },
    {
      "cell_type": "markdown",
      "metadata": {
        "id": "BL7nlnupv716"
      },
      "source": [
        "> Based on the information above, it can be seen that the difference in the Gradient Boosting score of the kfold train test with hyperparameter tuning is less than 10% which indicates that the model is neither overfit nor underfit."
      ],
      "id": "BL7nlnupv716"
    },
    {
      "cell_type": "markdown",
      "metadata": {
        "id": "PNHcVtAMDL_8"
      },
      "source": [
        "## MODEL EVALUATION"
      ],
      "id": "PNHcVtAMDL_8"
    },
    {
      "cell_type": "code",
      "source": [
        "f, ax = plt.subplots(1, 4, figsize=(24,5))\n",
        "sns.heatmap(confusion_matrix(y_test, y_pred_lr), annot=True, fmt='.0f', ax=ax[0])\n",
        "sns.heatmap(confusion_matrix(y_test, y_pred_lr_tuned), annot=True, fmt='.0f', ax=ax[1])\n",
        "sns.heatmap(confusion_matrix(y_test, y_pred_gb), annot=True, fmt='.0f', ax=ax[2])\n",
        "sns.heatmap(confusion_matrix(y_test, y_pred_gb_tuned), annot=True, fmt='.0f', ax=ax[3])\n",
        "\n",
        "for i in range(4):\n",
        "  ax[i].set_xlabel('Prediction')\n",
        "  ax[i].set_ylabel('Actual')\n",
        "\n",
        "ax[0].set_title('Logistic Regression')\n",
        "ax[1].set_title('Logistic Regression Hyperparameter Tuning')\n",
        "ax[2].set_title('Gradient Boosting')\n",
        "ax[3].set_title('Gradient Boosting Hyperparameter Tuning')\n",
        "\n",
        "plt.tight_layout()\n",
        "plt.show()"
      ],
      "metadata": {
        "colab": {
          "base_uri": "https://localhost:8080/",
          "height": 305
        },
        "id": "87_9kBVugIbc",
        "outputId": "ff1e2f23-1879-4198-dd27-bceeafb7c680"
      },
      "id": "87_9kBVugIbc",
      "execution_count": 100,
      "outputs": [
        {
          "output_type": "display_data",
          "data": {
            "text/plain": [
              "<Figure size 1728x360 with 8 Axes>"
            ],
            "image/png": "[encoded data removed]"
          },
          "metadata": {
            "needs_background": "light"
          }
        }
      ]
    },
    {
      "cell_type": "code",
      "source": [
        "print('Logistic Regression')\n",
        "print(classification_report(y_test, y_pred_lr))\n",
        "print('\\nLogistic Regression Hyperparameter Tuning')\n",
        "print(classification_report(y_test, y_pred_lr_tuned))\n",
        "print('\\nGradient Boosting')\n",
        "print(classification_report(y_test, y_pred_gb))\n",
        "print('\\nGradient Boosting Hyperparameter Tuning')\n",
        "print(classification_report(y_test, y_pred_gb_tuned))"
      ],
      "metadata": {
        "colab": {
          "base_uri": "https://localhost:8080/"
        },
        "id": "KfN_YoX4hdyr",
        "outputId": "89d3c2f1-e70b-41cc-baaa-517703321129"
      },
      "id": "KfN_YoX4hdyr",
      "execution_count": 101,
      "outputs": [
        {
          "output_type": "stream",
          "name": "stdout",
          "text": [
            "Logistic Regression\n",
            "              precision    recall  f1-score   support\n",
            "\n",
            "           0       0.91      0.98      0.94     11969\n",
            "           1       0.60      0.24      0.34      1595\n",
            "\n",
            "    accuracy                           0.89     13564\n",
            "   macro avg       0.75      0.61      0.64     13564\n",
            "weighted avg       0.87      0.89      0.87     13564\n",
            "\n",
            "\n",
            "Logistic Regression Hyperparameter Tuning\n",
            "              precision    recall  f1-score   support\n",
            "\n",
            "           0       0.89      1.00      0.94     11969\n",
            "           1       0.74      0.09      0.16      1595\n",
            "\n",
            "    accuracy                           0.89     13564\n",
            "   macro avg       0.81      0.54      0.55     13564\n",
            "weighted avg       0.87      0.89      0.85     13564\n",
            "\n",
            "\n",
            "Gradient Boosting\n",
            "              precision    recall  f1-score   support\n",
            "\n",
            "           0       0.92      0.97      0.94     11969\n",
            "           1       0.59      0.34      0.43      1595\n",
            "\n",
            "    accuracy                           0.89     13564\n",
            "   macro avg       0.75      0.65      0.68     13564\n",
            "weighted avg       0.88      0.89      0.88     13564\n",
            "\n",
            "\n",
            "Gradient Boosting Hyperparameter Tuning\n",
            "              precision    recall  f1-score   support\n",
            "\n",
            "           0       0.88      1.00      0.94     11969\n",
            "           1       0.64      0.01      0.02      1595\n",
            "\n",
            "    accuracy                           0.88     13564\n",
            "   macro avg       0.76      0.50      0.48     13564\n",
            "weighted avg       0.85      0.88      0.83     13564\n",
            "\n"
          ]
        }
      ]
    },
    {
      "cell_type": "code",
      "source": [
        "\n",
        "cv = KFold(n_splits=5, shuffle=False)\n",
        "f, ax = plt.subplots(1,4, figsize=(24,5))\n",
        "\n",
        "# kfold logistic regression\n",
        "scores_train1 = cross_val_score(model_lr, X_train, y_train, scoring='precision', cv=cv)\n",
        "scores_test1 = cross_validate(model_lr, X_train, y_train, cv=5)\n",
        "sns.lineplot(data=scores_train1, label='Train', marker='o', ax=ax[0])\n",
        "sns.lineplot(data=scores_test1['test_score'], label='Test', marker='o', ax=ax[0])\n",
        "ax[0].set_title('K-Fold Logistic Regression')\n",
        "\n",
        "# kfold logistic regression hyperparameter tuning\n",
        "scores_train2 = cross_val_score(model_lr_tuned, X_train, y_train, scoring='precision', cv=cv)\n",
        "scores_test2 = cross_validate(model_lr_tuned, X_train, y_train, cv=5)\n",
        "sns.lineplot(data=scores_train2, label='Train', marker='o', ax=ax[1])\n",
        "sns.lineplot(data=scores_test2['test_score'], label='Test', marker='o', ax=ax[1])\n",
        "ax[1].set_title('K-Fold Logistic Regression Hyperparameter Tuning')\n",
        "\n",
        "# kfold gradient boosting\n",
        "scores_train3 = cross_val_score(model_gb, X_train, y_train, scoring='precision', cv=cv)\n",
        "scores_test3 = cross_validate(model_gb, X_train, y_train, cv=5)\n",
        "sns.lineplot(data=scores_train3, label='Train', marker='o', ax=ax[2])\n",
        "sns.lineplot(data=scores_test3['test_score'], label='Test', marker='o', ax=ax[2])\n",
        "ax[2].set_title('Gradient Boosting')\n",
        "\n",
        "# kfold gradient boosting\n",
        "scores_train4 = cross_val_score(model_gb_tuned, X_train, y_train, scoring='precision', cv=cv)\n",
        "scores_test4 = cross_validate(model_gb_tuned, X_train, y_train, cv=5)\n",
        "sns.lineplot(data=scores_train4, label='Train', marker='o', ax=ax[3])\n",
        "sns.lineplot(data=scores_test4['test_score'], label='Test', marker='o', ax=ax[3])\n",
        "ax[3].set_title('Gradient Boosting')\n",
        "\n",
        "plt.tight_layout()\n",
        "plt.show()"
      ],
      "metadata": {
        "colab": {
          "base_uri": "https://localhost:8080/",
          "height": 303
        },
        "id": "mho2OONah1xr",
        "outputId": "7d596aa2-9d6f-4e60-9214-605c97fcaaea"
      },
      "id": "mho2OONah1xr",
      "execution_count": 102,
      "outputs": [
        {
          "output_type": "display_data",
          "data": {
            "text/plain": [
              "<Figure size 1728x360 with 4 Axes>"
            ],
            "image/png": "[encoded data removed]"
          },
          "metadata": {
            "needs_background": "light"
          }
        }
      ]
    },
    {
      "cell_type": "code",
      "source": [
        "pd.DataFrame({\n",
        "    '[Logistic Regression]' : [round(scores_train1.mean()*100, 2), round(scores_test1['test_score'].mean()*100, 2)],\n",
        "    '[Logistic Regression Hyperparameter tuning]' : [round(scores_train2.mean()*100, 2), round(scores_test2['test_score'].mean()*100, 2)],\n",
        "    '[Gradient Boosting]' : [round(scores_train3.mean()*100, 2), round(scores_test3['test_score'].mean()*100, 2)],\n",
        "    '[Gradient Boosting Hyperparameter tuning]' : [round(scores_train4.mean()*100, 2), round(scores_test4['test_score'].mean()*100, 2)]\n",
        "}, index = ['Train', 'Test'])"
      ],
      "metadata": {
        "colab": {
          "base_uri": "https://localhost:8080/",
          "height": 112
        },
        "id": "EIcIDdMdjNeZ",
        "outputId": "690f1bb8-dee3-4d67-f07b-ef9cea67d44b"
      },
      "id": "EIcIDdMdjNeZ",
      "execution_count": 103,
      "outputs": [
        {
          "output_type": "execute_result",
          "data": {
            "text/plain": [
              "       [Logistic Regression]  [Logistic Regression Hyperparameter tuning]  \\\n",
              "Train                  63.25                                        79.48   \n",
              "Test                   89.54                                        89.11   \n",
              "\n",
              "       [Gradient Boosting]  [Gradient Boosting Hyperparameter tuning]  \n",
              "Train                59.90                                      89.48  \n",
              "Test                 89.68                                      88.47  "
            ],
            "text/html": [
              "\n",
              "  <div id=\"df-d94188fa-0a65-4ca8-9e98-eb2871fbd13c\">\n",
              "    <div class=\"colab-df-container\">\n",
              "      <div>\n",
              "<style scoped>\n",
              "    .dataframe tbody tr th:only-of-type {\n",
              "        vertical-align: middle;\n",
              "    }\n",
              "\n",
              "    .dataframe tbody tr th {\n",
              "        vertical-align: top;\n",
              "    }\n",
              "\n",
              "    .dataframe thead th {\n",
              "        text-align: right;\n",
              "    }\n",
              "</style>\n",
              "<table border=\"1\" class=\"dataframe\">\n",
              "  <thead>\n",
              "    <tr style=\"text-align: right;\">\n",
              "      <th></th>\n",
              "      <th>[Logistic Regression]</th>\n",
              "      <th>[Logistic Regression Hyperparameter tuning]</th>\n",
              "      <th>[Gradient Boosting]</th>\n",
              "      <th>[Gradient Boosting Hyperparameter tuning]</th>\n",
              "    </tr>\n",
              "  </thead>\n",
              "  <tbody>\n",
              "    <tr>\n",
              "      <th>Train</th>\n",
              "      <td>63.25</td>\n",
              "      <td>79.48</td>\n",
              "      <td>59.90</td>\n",
              "      <td>89.48</td>\n",
              "    </tr>\n",
              "    <tr>\n",
              "      <th>Test</th>\n",
              "      <td>89.54</td>\n",
              "      <td>89.11</td>\n",
              "      <td>89.68</td>\n",
              "      <td>88.47</td>\n",
              "    </tr>\n",
              "  </tbody>\n",
              "</table>\n",
              "</div>\n",
              "      <button class=\"colab-df-convert\" onclick=\"convertToInteractive('df-d94188fa-0a65-4ca8-9e98-eb2871fbd13c')\"\n",
              "              title=\"Convert this dataframe to an interactive table.\"\n",
              "              style=\"display:none;\">\n",
              "        \n",
              "  <svg xmlns=\"http://www.w3.org/2000/svg\" height=\"24px\"viewBox=\"0 0 24 24\"\n",
              "       width=\"24px\">\n",
              "    <path d=\"M0 0h24v24H0V0z\" fill=\"none\"/>\n",
              "    <path d=\"M18.56 5.44l.94 2.06.94-2.06 2.06-.94-2.06-.94-.94-2.06-.94 2.06-2.06.94zm-11 1L8.5 8.5l.94-2.06 2.06-.94-2.06-.94L8.5 2.5l-.94 2.06-2.06.94zm10 10l.94 2.06.94-2.06 2.06-.94-2.06-.94-.94-2.06-.94 2.06-2.06.94z\"/><path d=\"M17.41 7.96l-1.37-1.37c-.4-.4-.92-.59-1.43-.59-.52 0-1.04.2-1.43.59L10.3 9.45l-7.72 7.72c-.78.78-.78 2.05 0 2.83L4 21.41c.39.39.9.59 1.41.59.51 0 1.02-.2 1.41-.59l7.78-7.78 2.81-2.81c.8-.78.8-2.07 0-2.86zM5.41 20L4 18.59l7.72-7.72 1.47 1.35L5.41 20z\"/>\n",
              "  </svg>\n",
              "      </button>\n",
              "      \n",
              "  <style>\n",
              "    .colab-df-container {\n",
              "      display:flex;\n",
              "      flex-wrap:wrap;\n",
              "      gap: 12px;\n",
              "    }\n",
              "\n",
              "    .colab-df-convert {\n",
              "      background-color: #E8F0FE;\n",
              "      border: none;\n",
              "      border-radius: 50%;\n",
              "      cursor: pointer;\n",
              "      display: none;\n",
              "      fill: #1967D2;\n",
              "      height: 32px;\n",
              "      padding: 0 0 0 0;\n",
              "      width: 32px;\n",
              "    }\n",
              "\n",
              "    .colab-df-convert:hover {\n",
              "      background-color: #E2EBFA;\n",
              "      box-shadow: 0px 1px 2px rgba(60, 64, 67, 0.3), 0px 1px 3px 1px rgba(60, 64, 67, 0.15);\n",
              "      fill: #174EA6;\n",
              "    }\n",
              "\n",
              "    [theme=dark] .colab-df-convert {\n",
              "      background-color: #3B4455;\n",
              "      fill: #D2E3FC;\n",
              "    }\n",
              "\n",
              "    [theme=dark] .colab-df-convert:hover {\n",
              "      background-color: #434B5C;\n",
              "      box-shadow: 0px 1px 3px 1px rgba(0, 0, 0, 0.15);\n",
              "      filter: drop-shadow(0px 1px 2px rgba(0, 0, 0, 0.3));\n",
              "      fill: #FFFFFF;\n",
              "    }\n",
              "  </style>\n",
              "\n",
              "      <script>\n",
              "        const buttonEl =\n",
              "          document.querySelector('#df-d94188fa-0a65-4ca8-9e98-eb2871fbd13c button.colab-df-convert');\n",
              "        buttonEl.style.display =\n",
              "          google.colab.kernel.accessAllowed ? 'block' : 'none';\n",
              "\n",
              "        async function convertToInteractive(key) {\n",
              "          const element = document.querySelector('#df-d94188fa-0a65-4ca8-9e98-eb2871fbd13c');\n",
              "          const dataTable =\n",
              "            await google.colab.kernel.invokeFunction('convertToInteractive',\n",
              "                                                     [key], {});\n",
              "          if (!dataTable) return;\n",
              "\n",
              "          const docLinkHtml = 'Like what you see? Visit the ' +\n",
              "            '<a target=\"_blank\" href=https://colab.research.google.com/notebooks/data_table.ipynb>data table notebook</a>'\n",
              "            + ' to learn more about interactive tables.';\n",
              "          element.innerHTML = '';\n",
              "          dataTable['output_type'] = 'display_data';\n",
              "          await google.colab.output.renderOutput(dataTable, element);\n",
              "          const docLink = document.createElement('div');\n",
              "          docLink.innerHTML = docLinkHtml;\n",
              "          element.appendChild(docLink);\n",
              "        }\n",
              "      </script>\n",
              "    </div>\n",
              "  </div>\n",
              "  "
            ]
          },
          "metadata": {},
          "execution_count": 103
        }
      ]
    },
    {
      "cell_type": "markdown",
      "source": [
        "> Based on the comparison above, it can be seen that the model that gives the best results gradient boosting + hyperparameter tuning. "
      ],
      "metadata": {
        "id": "cuxTvGHNbH5A"
      },
      "id": "cuxTvGHNbH5A"
    },
    {
      "cell_type": "markdown",
      "source": [
        "# CONCLUSION\n",
        "> "
      ],
      "metadata": {
        "id": "uKXr406rmvqd"
      },
      "id": "uKXr406rmvqd"
    },
    {
      "cell_type": "markdown",
      "source": [
        "> 1. There are 5289 (11.70%) clients who are subscribed, while those who are not subscribed are 39922 (88.3%)\n",
        "> 2. The last contact duration in seconds seems successful enough to attract deposit customers at more than 537 seconds. \n",
        "> 3. Based on the age distribution table, it can be seen that yes the percentage will be large in the age range > 60.\n",
        "> 4. The last contact duration in seconds seems successful enough to attract deposit customers at more than 537 seconds. This makes sense because when the communication is long, it proves that the intended person is someone who is interested in the deposit campaign.\n",
        "> 5. The highest contribution is at the average annual balance of 0. There are 292 customers who are deposit customers at balance = 0.\n",
        "> 6. The clients who subscribe the most are clients with secondary education qualifications as much as 2450 and a percentage rate of 11.80% and clients who subscribe the least, namely clients with primary education qualifications as many as 591 and a percentage rate of 9.44%, so it can be assumed that the higher the education, the greater the tendency of a person to subscribe.\n",
        "> 7. The clients who subscribe the most are clients who work as management as many as 1301 and a percentage rate of 15.94% and the clients who subscribe the least are clients who work as house maids as many as 109 and a percentage rate of 9.63%. So it can be assumed that the higher the level of a person's job, it can affect someone to subscribe.\n",
        "> 8. The clients who subscribe the most where marketing campaign were successful as many as 978 clients, so it can be assumed that when the previous marketing campaign was successful, the more likely it is that someone to subscribe.\n",
        "> 9. Based on the comparison above, it can be seen that the model that gives the best results gradient boosting + hyperparameter tuning. "
      ],
      "metadata": {
        "id": "T8kLNZj6qXiU"
      },
      "id": "T8kLNZj6qXiU"
    }
  ],
  "metadata": {
    "colab": {
      "collapsed_sections": [
        "287518ae-63e0-4682-812e-0f976f4a8c2c",
        "e3ceabf5-3d48-49ba-b5b6-a94ac7f0f04b"
      ],
      "provenance": [],
      "toc_visible": true
    },
    "kernelspec": {
      "display_name": "Python 3 (ipykernel)",
      "language": "python",
      "name": "python3"
    },
    "language_info": {
      "codemirror_mode": {
        "name": "ipython",
        "version": 3
      },
      "file_extension": ".py",
      "mimetype": "text/x-python",
      "name": "python",
      "nbconvert_exporter": "python",
      "pygments_lexer": "ipython3",
      "version": "3.9.13"
    }
  },
  "nbformat": 4,
  "nbformat_minor": 5
}